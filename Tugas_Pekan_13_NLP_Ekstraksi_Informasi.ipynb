{
  "nbformat": 4,
  "nbformat_minor": 0,
  "metadata": {
    "colab": {
      "name": "Tugas Pekan 13 - NLP - Ekstraksi Informasi.ipynb",
      "provenance": [],
      "toc_visible": true
    },
    "kernelspec": {
      "name": "python3",
      "display_name": "Python 3"
    }
  },
  "cells": [
    {
      "cell_type": "markdown",
      "metadata": {
        "id": "7D_51WqjkGk1"
      },
      "source": [
        "**Tutorial NER dengan Metode CRF**\n",
        "\n",
        "Sumber: \n",
        "\n",
        "https://towardsdatascience.com/named-entity-recognition-and-classification-with-scikit-learn-f05372f07ba2\n",
        "\n",
        "https://sklearn-crfsuite.readthedocs.io/en/latest/tutorial.html\n",
        "\n"
      ]
    },
    {
      "cell_type": "markdown",
      "metadata": {
        "id": "rvONupPdkevC"
      },
      "source": [
        "Install library CRF"
      ]
    },
    {
      "cell_type": "code",
      "metadata": {
        "colab": {
          "base_uri": "https://localhost:8080/"
        },
        "id": "5DE1JTx4fQRq",
        "outputId": "950be5c2-f7c6-4d1c-f3f9-3d216f1dea4d"
      },
      "source": [
        "!pip install sklearn_crfsuite"
      ],
      "execution_count": 1,
      "outputs": [
        {
          "output_type": "stream",
          "text": [
            "Collecting sklearn_crfsuite\n",
            "  Downloading https://files.pythonhosted.org/packages/25/74/5b7befa513482e6dee1f3dd68171a6c9dfc14c0eaa00f885ffeba54fe9b0/sklearn_crfsuite-0.3.6-py2.py3-none-any.whl\n",
            "Collecting python-crfsuite>=0.8.3\n",
            "\u001b[?25l  Downloading https://files.pythonhosted.org/packages/95/99/869dde6dbf3e0d07a013c8eebfb0a3d30776334e0097f8432b631a9a3a19/python_crfsuite-0.9.7-cp36-cp36m-manylinux1_x86_64.whl (743kB)\n",
            "\u001b[K     |████████████████████████████████| 747kB 5.6MB/s \n",
            "\u001b[?25hRequirement already satisfied: tabulate in /usr/local/lib/python3.6/dist-packages (from sklearn_crfsuite) (0.8.7)\n",
            "Requirement already satisfied: tqdm>=2.0 in /usr/local/lib/python3.6/dist-packages (from sklearn_crfsuite) (4.41.1)\n",
            "Requirement already satisfied: six in /usr/local/lib/python3.6/dist-packages (from sklearn_crfsuite) (1.15.0)\n",
            "Installing collected packages: python-crfsuite, sklearn-crfsuite\n",
            "Successfully installed python-crfsuite-0.9.7 sklearn-crfsuite-0.3.6\n"
          ],
          "name": "stdout"
        }
      ]
    },
    {
      "cell_type": "markdown",
      "metadata": {
        "id": "R6mPVQIDka3W"
      },
      "source": [
        "Import library yang diperlukan\n"
      ]
    },
    {
      "cell_type": "code",
      "metadata": {
        "id": "y28VujBXbyfe"
      },
      "source": [
        "import pandas as pd\n",
        "import numpy as np\n",
        "from sklearn.model_selection import train_test_split\n",
        "import sklearn_crfsuite\n",
        "from sklearn_crfsuite import scorers\n",
        "from sklearn_crfsuite import metrics\n",
        "from sklearn.metrics import classification_report"
      ],
      "execution_count": 2,
      "outputs": []
    },
    {
      "cell_type": "markdown",
      "metadata": {
        "id": "_0jHM7UXkmFz"
      },
      "source": [
        "Baca dataset. Link file dataset: https://drive.google.com/file/d/17Hm26nL6EQ8aDrr_Abz3KqUkhnxa_Uoi/view?usp=sharing \n",
        "\n",
        "Jangan lupa sesuaikan path!"
      ]
    },
    {
      "cell_type": "code",
      "metadata": {
        "colab": {
          "base_uri": "https://localhost:8080/",
          "height": 191
        },
        "id": "B-EtlTTceYmS",
        "outputId": "c5265a25-ab04-4444-ec58-32638758aab2"
      },
      "source": [
        "df = pd.read_csv('ner_100000_dataset.csv', encoding = \"ISO-8859-1\")\n",
        "df.head()"
      ],
      "execution_count": 3,
      "outputs": [
        {
          "output_type": "execute_result",
          "data": {
            "text/html": [
              "<div>\n",
              "<style scoped>\n",
              "    .dataframe tbody tr th:only-of-type {\n",
              "        vertical-align: middle;\n",
              "    }\n",
              "\n",
              "    .dataframe tbody tr th {\n",
              "        vertical-align: top;\n",
              "    }\n",
              "\n",
              "    .dataframe thead th {\n",
              "        text-align: right;\n",
              "    }\n",
              "</style>\n",
              "<table border=\"1\" class=\"dataframe\">\n",
              "  <thead>\n",
              "    <tr style=\"text-align: right;\">\n",
              "      <th></th>\n",
              "      <th>Unnamed: 0</th>\n",
              "      <th>Sentence #</th>\n",
              "      <th>Word</th>\n",
              "      <th>POS</th>\n",
              "      <th>Tag</th>\n",
              "    </tr>\n",
              "  </thead>\n",
              "  <tbody>\n",
              "    <tr>\n",
              "      <th>0</th>\n",
              "      <td>0</td>\n",
              "      <td>Sentence: 1</td>\n",
              "      <td>Thousands</td>\n",
              "      <td>NNS</td>\n",
              "      <td>O</td>\n",
              "    </tr>\n",
              "    <tr>\n",
              "      <th>1</th>\n",
              "      <td>1</td>\n",
              "      <td>NaN</td>\n",
              "      <td>of</td>\n",
              "      <td>IN</td>\n",
              "      <td>O</td>\n",
              "    </tr>\n",
              "    <tr>\n",
              "      <th>2</th>\n",
              "      <td>2</td>\n",
              "      <td>NaN</td>\n",
              "      <td>demonstrators</td>\n",
              "      <td>NNS</td>\n",
              "      <td>O</td>\n",
              "    </tr>\n",
              "    <tr>\n",
              "      <th>3</th>\n",
              "      <td>3</td>\n",
              "      <td>NaN</td>\n",
              "      <td>have</td>\n",
              "      <td>VBP</td>\n",
              "      <td>O</td>\n",
              "    </tr>\n",
              "    <tr>\n",
              "      <th>4</th>\n",
              "      <td>4</td>\n",
              "      <td>NaN</td>\n",
              "      <td>marched</td>\n",
              "      <td>VBN</td>\n",
              "      <td>O</td>\n",
              "    </tr>\n",
              "  </tbody>\n",
              "</table>\n",
              "</div>"
            ],
            "text/plain": [
              "   Unnamed: 0   Sentence #           Word  POS Tag\n",
              "0           0  Sentence: 1      Thousands  NNS   O\n",
              "1           1          NaN             of   IN   O\n",
              "2           2          NaN  demonstrators  NNS   O\n",
              "3           3          NaN           have  VBP   O\n",
              "4           4          NaN        marched  VBN   O"
            ]
          },
          "metadata": {
            "tags": []
          },
          "execution_count": 3
        }
      ]
    },
    {
      "cell_type": "markdown",
      "metadata": {
        "id": "fHLm6RX2ksIf"
      },
      "source": [
        "Preprocess, update NaN pada kolom Sentence # dengan nomor kalimat yang ada di baris terakhir sebelumnya."
      ]
    },
    {
      "cell_type": "code",
      "metadata": {
        "colab": {
          "base_uri": "https://localhost:8080/"
        },
        "id": "EakYbUeei6DC",
        "outputId": "e66d93e6-f3ff-4933-89d0-ca2a2c980754"
      },
      "source": [
        "df = df.fillna(method='ffill')\n",
        "df['Sentence #'].nunique(), df.Word.nunique(), df.Tag.nunique()"
      ],
      "execution_count": 4,
      "outputs": [
        {
          "output_type": "execute_result",
          "data": {
            "text/plain": [
              "(4544, 10922, 17)"
            ]
          },
          "metadata": {
            "tags": []
          },
          "execution_count": 4
        }
      ]
    },
    {
      "cell_type": "code",
      "metadata": {
        "id": "oAP2wWlu1kkG"
      },
      "source": [
        "cek = df.copy()"
      ],
      "execution_count": 5,
      "outputs": []
    },
    {
      "cell_type": "markdown",
      "metadata": {
        "id": "v6xH95Ddk-pG"
      },
      "source": [
        "Cek persebaran tag. Dapat dilihat jika persebarannya tidak seimbang (imbalanced)"
      ]
    },
    {
      "cell_type": "code",
      "metadata": {
        "colab": {
          "base_uri": "https://localhost:8080/",
          "height": 536
        },
        "id": "mDDqA1LFe2uh",
        "outputId": "ed598344-529b-4169-b373-77d9b469094b"
      },
      "source": [
        "df.groupby('Tag').size().reset_index(name='counts')"
      ],
      "execution_count": 6,
      "outputs": [
        {
          "output_type": "execute_result",
          "data": {
            "text/html": [
              "<div>\n",
              "<style scoped>\n",
              "    .dataframe tbody tr th:only-of-type {\n",
              "        vertical-align: middle;\n",
              "    }\n",
              "\n",
              "    .dataframe tbody tr th {\n",
              "        vertical-align: top;\n",
              "    }\n",
              "\n",
              "    .dataframe thead th {\n",
              "        text-align: right;\n",
              "    }\n",
              "</style>\n",
              "<table border=\"1\" class=\"dataframe\">\n",
              "  <thead>\n",
              "    <tr style=\"text-align: right;\">\n",
              "      <th></th>\n",
              "      <th>Tag</th>\n",
              "      <th>counts</th>\n",
              "    </tr>\n",
              "  </thead>\n",
              "  <tbody>\n",
              "    <tr>\n",
              "      <th>0</th>\n",
              "      <td>B-art</td>\n",
              "      <td>75</td>\n",
              "    </tr>\n",
              "    <tr>\n",
              "      <th>1</th>\n",
              "      <td>B-eve</td>\n",
              "      <td>53</td>\n",
              "    </tr>\n",
              "    <tr>\n",
              "      <th>2</th>\n",
              "      <td>B-geo</td>\n",
              "      <td>3303</td>\n",
              "    </tr>\n",
              "    <tr>\n",
              "      <th>3</th>\n",
              "      <td>B-gpe</td>\n",
              "      <td>1740</td>\n",
              "    </tr>\n",
              "    <tr>\n",
              "      <th>4</th>\n",
              "      <td>B-nat</td>\n",
              "      <td>30</td>\n",
              "    </tr>\n",
              "    <tr>\n",
              "      <th>5</th>\n",
              "      <td>B-org</td>\n",
              "      <td>1876</td>\n",
              "    </tr>\n",
              "    <tr>\n",
              "      <th>6</th>\n",
              "      <td>B-per</td>\n",
              "      <td>1668</td>\n",
              "    </tr>\n",
              "    <tr>\n",
              "      <th>7</th>\n",
              "      <td>B-tim</td>\n",
              "      <td>1823</td>\n",
              "    </tr>\n",
              "    <tr>\n",
              "      <th>8</th>\n",
              "      <td>I-art</td>\n",
              "      <td>43</td>\n",
              "    </tr>\n",
              "    <tr>\n",
              "      <th>9</th>\n",
              "      <td>I-eve</td>\n",
              "      <td>47</td>\n",
              "    </tr>\n",
              "    <tr>\n",
              "      <th>10</th>\n",
              "      <td>I-geo</td>\n",
              "      <td>690</td>\n",
              "    </tr>\n",
              "    <tr>\n",
              "      <th>11</th>\n",
              "      <td>I-gpe</td>\n",
              "      <td>51</td>\n",
              "    </tr>\n",
              "    <tr>\n",
              "      <th>12</th>\n",
              "      <td>I-nat</td>\n",
              "      <td>11</td>\n",
              "    </tr>\n",
              "    <tr>\n",
              "      <th>13</th>\n",
              "      <td>I-org</td>\n",
              "      <td>1470</td>\n",
              "    </tr>\n",
              "    <tr>\n",
              "      <th>14</th>\n",
              "      <td>I-per</td>\n",
              "      <td>1846</td>\n",
              "    </tr>\n",
              "    <tr>\n",
              "      <th>15</th>\n",
              "      <td>I-tim</td>\n",
              "      <td>549</td>\n",
              "    </tr>\n",
              "    <tr>\n",
              "      <th>16</th>\n",
              "      <td>O</td>\n",
              "      <td>84725</td>\n",
              "    </tr>\n",
              "  </tbody>\n",
              "</table>\n",
              "</div>"
            ],
            "text/plain": [
              "      Tag  counts\n",
              "0   B-art      75\n",
              "1   B-eve      53\n",
              "2   B-geo    3303\n",
              "3   B-gpe    1740\n",
              "4   B-nat      30\n",
              "5   B-org    1876\n",
              "6   B-per    1668\n",
              "7   B-tim    1823\n",
              "8   I-art      43\n",
              "9   I-eve      47\n",
              "10  I-geo     690\n",
              "11  I-gpe      51\n",
              "12  I-nat      11\n",
              "13  I-org    1470\n",
              "14  I-per    1846\n",
              "15  I-tim     549\n",
              "16      O   84725"
            ]
          },
          "metadata": {
            "tags": []
          },
          "execution_count": 6
        }
      ]
    },
    {
      "cell_type": "markdown",
      "metadata": {
        "id": "UBukk4DFlFOZ"
      },
      "source": [
        "Class untuk mengambil data per sentence"
      ]
    },
    {
      "cell_type": "code",
      "metadata": {
        "id": "JxIKoK7Ae-8y"
      },
      "source": [
        "class SentenceGetter(object):\n",
        "    \n",
        "    def __init__(self, data):\n",
        "        self.n_sent = 1\n",
        "        self.data = data\n",
        "        self.empty = False\n",
        "        agg_func = lambda s: [(w, p, t) for w, p, t in zip(s['Word'].values.tolist(), \n",
        "                                                           s['POS'].values.tolist(), \n",
        "                                                           s['Tag'].values.tolist())]\n",
        "        self.grouped = self.data.groupby('Sentence #').apply(agg_func)\n",
        "        self.sentences = [s for s in self.grouped]\n",
        "        \n",
        "    def get_next(self):\n",
        "        try: \n",
        "            s = self.grouped['Sentence: {}'.format(self.n_sent)]\n",
        "            self.n_sent += 1\n",
        "            return s \n",
        "        except:\n",
        "            return None\n",
        "getter = SentenceGetter(df)\n",
        "sentences = getter.sentences"
      ],
      "execution_count": 7,
      "outputs": []
    },
    {
      "cell_type": "markdown",
      "metadata": {
        "id": "fTmj7le_uoK8"
      },
      "source": [
        "# Menggunakan semua fitur"
      ]
    },
    {
      "cell_type": "markdown",
      "metadata": {
        "id": "KWd02Mjiutsk"
      },
      "source": [
        "Fungsi untuk ekstraksi fitur"
      ]
    },
    {
      "cell_type": "code",
      "metadata": {
        "id": "qaRgBEBvuttB"
      },
      "source": [
        "def word2features(sent, i):\n",
        "    word = sent[i][0]\n",
        "    postag = sent[i][1]\n",
        "    \n",
        "    features = {\n",
        "        'bias': 1.0, \n",
        "        'word.lower()': word.lower(), \n",
        "        'word[-3:]': word[-3:],\n",
        "        'word[-2:]': word[-2:],\n",
        "        'word.isupper()': word.isupper(),\n",
        "        'word.istitle()': word.istitle(),\n",
        "        'word.isdigit()': word.isdigit(),\n",
        "        'postag': postag,\n",
        "        'postag[:2]': postag[:2],\n",
        "    }\n",
        "    if i > 0:\n",
        "        word1 = sent[i-1][0]\n",
        "        postag1 = sent[i-1][1]\n",
        "        features.update({\n",
        "            '-1:word.lower()': word1.lower(),\n",
        "            '-1:word.istitle()': word1.istitle(),\n",
        "            '-1:word.isupper()': word1.isupper(),\n",
        "            '-1:postag': postag1,\n",
        "            '-1:postag[:2]': postag1[:2],\n",
        "        })\n",
        "    else:\n",
        "        features['BOS'] = True\n",
        "    if i < len(sent)-1:\n",
        "        word1 = sent[i+1][0]\n",
        "        postag1 = sent[i+1][1]\n",
        "        features.update({\n",
        "            '+1:word.lower()': word1.lower(),\n",
        "            '+1:word.istitle()': word1.istitle(),\n",
        "            '+1:word.isupper()': word1.isupper(),\n",
        "            '+1:postag': postag1,\n",
        "            '+1:postag[:2]': postag1[:2],\n",
        "        })\n",
        "    else:\n",
        "        features['EOS'] = True\n",
        "\n",
        "    return features\n",
        "\n",
        "def sent2features(sent):\n",
        "    return [word2features(sent, i) for i in range(len(sent))]\n",
        "\n",
        "def sent2labels(sent):\n",
        "    return [label for token, postag, label in sent]\n",
        "    \n",
        "def sent2tokens(sent):\n",
        "    return [token for token, postag, label in sent]"
      ],
      "execution_count": null,
      "outputs": []
    },
    {
      "cell_type": "markdown",
      "metadata": {
        "id": "gHMY8In7uttF"
      },
      "source": [
        "Kelas/label tag, diproses supaya nanti label O tidak diperhitungkan untuk evaluasi"
      ]
    },
    {
      "cell_type": "code",
      "metadata": {
        "colab": {
          "base_uri": "https://localhost:8080/"
        },
        "id": "jtc2oNlDuttI",
        "outputId": "1df4f1f5-de4e-47cc-a4e4-75c14b76bb5a"
      },
      "source": [
        "y = df.Tag.values\n",
        "classes = np.unique(y)\n",
        "classes = classes.tolist()\n",
        "new_classes = classes.copy()\n",
        "new_classes.pop()\n",
        "new_classes"
      ],
      "execution_count": null,
      "outputs": [
        {
          "output_type": "execute_result",
          "data": {
            "text/plain": [
              "['B-art',\n",
              " 'B-eve',\n",
              " 'B-geo',\n",
              " 'B-gpe',\n",
              " 'B-nat',\n",
              " 'B-org',\n",
              " 'B-per',\n",
              " 'B-tim',\n",
              " 'I-art',\n",
              " 'I-eve',\n",
              " 'I-geo',\n",
              " 'I-gpe',\n",
              " 'I-nat',\n",
              " 'I-org',\n",
              " 'I-per',\n",
              " 'I-tim']"
            ]
          },
          "metadata": {
            "tags": []
          },
          "execution_count": 54
        }
      ]
    },
    {
      "cell_type": "markdown",
      "metadata": {
        "id": "S774V5SnuttN"
      },
      "source": [
        "Ekstraksi fitur dan split data menjadi data train dan data test"
      ]
    },
    {
      "cell_type": "code",
      "metadata": {
        "id": "7RLRxp3luttO"
      },
      "source": [
        "X = [sent2features(s) for s in sentences]\n",
        "y = [sent2labels(s) for s in sentences]\n",
        "X_train, X_test, y_train, y_test = train_test_split(X, y, test_size=0.33, random_state=0)"
      ],
      "execution_count": null,
      "outputs": []
    },
    {
      "cell_type": "markdown",
      "metadata": {
        "id": "918GfZp7uttQ"
      },
      "source": [
        "Cek salah satu instance di data train"
      ]
    },
    {
      "cell_type": "code",
      "metadata": {
        "colab": {
          "base_uri": "https://localhost:8080/"
        },
        "id": "th-D9C_NuttR",
        "outputId": "962e05f0-08ca-4911-c459-f7b841e510cb"
      },
      "source": [
        "print(X_train[0])\n",
        "print(y_train[0])"
      ],
      "execution_count": null,
      "outputs": [
        {
          "output_type": "stream",
          "text": [
            "[{'bias': 1.0, 'word.lower()': 'a', 'word[-3:]': 'A', 'word[-2:]': 'A', 'word.isupper()': True, 'word.istitle()': True, 'word.isdigit()': False, 'postag': 'DT', 'postag[:2]': 'DT', 'BOS': True, '+1:word.lower()': 'second', '+1:word.istitle()': False, '+1:word.isupper()': False, '+1:postag': 'JJ', '+1:postag[:2]': 'JJ'}, {'bias': 1.0, 'word.lower()': 'second', 'word[-3:]': 'ond', 'word[-2:]': 'nd', 'word.isupper()': False, 'word.istitle()': False, 'word.isdigit()': False, 'postag': 'JJ', 'postag[:2]': 'JJ', '-1:word.lower()': 'a', '-1:word.istitle()': True, '-1:word.isupper()': True, '-1:postag': 'DT', '-1:postag[:2]': 'DT', '+1:word.lower()': 'nominee', '+1:word.istitle()': False, '+1:word.isupper()': False, '+1:postag': 'NN', '+1:postag[:2]': 'NN'}, {'bias': 1.0, 'word.lower()': 'nominee', 'word[-3:]': 'nee', 'word[-2:]': 'ee', 'word.isupper()': False, 'word.istitle()': False, 'word.isdigit()': False, 'postag': 'NN', 'postag[:2]': 'NN', '-1:word.lower()': 'second', '-1:word.istitle()': False, '-1:word.isupper()': False, '-1:postag': 'JJ', '-1:postag[:2]': 'JJ', '+1:word.lower()': ',', '+1:word.istitle()': False, '+1:word.isupper()': False, '+1:postag': ',', '+1:postag[:2]': ','}, {'bias': 1.0, 'word.lower()': ',', 'word[-3:]': ',', 'word[-2:]': ',', 'word.isupper()': False, 'word.istitle()': False, 'word.isdigit()': False, 'postag': ',', 'postag[:2]': ',', '-1:word.lower()': 'nominee', '-1:word.istitle()': False, '-1:word.isupper()': False, '-1:postag': 'NN', '-1:postag[:2]': 'NN', '+1:word.lower()': 'general', '+1:word.istitle()': True, '+1:word.isupper()': False, '+1:postag': 'NNP', '+1:postag[:2]': 'NN'}, {'bias': 1.0, 'word.lower()': 'general', 'word[-3:]': 'ral', 'word[-2:]': 'al', 'word.isupper()': False, 'word.istitle()': True, 'word.isdigit()': False, 'postag': 'NNP', 'postag[:2]': 'NN', '-1:word.lower()': ',', '-1:word.istitle()': False, '-1:word.isupper()': False, '-1:postag': ',', '-1:postag[:2]': ',', '+1:word.lower()': 'sadeq', '+1:word.istitle()': True, '+1:word.isupper()': False, '+1:postag': 'NNP', '+1:postag[:2]': 'NN'}, {'bias': 1.0, 'word.lower()': 'sadeq', 'word[-3:]': 'deq', 'word[-2:]': 'eq', 'word.isupper()': False, 'word.istitle()': True, 'word.isdigit()': False, 'postag': 'NNP', 'postag[:2]': 'NN', '-1:word.lower()': 'general', '-1:word.istitle()': True, '-1:word.isupper()': False, '-1:postag': 'NNP', '-1:postag[:2]': 'NN', '+1:word.lower()': 'mahsouli', '+1:word.istitle()': True, '+1:word.isupper()': False, '+1:postag': 'NNP', '+1:postag[:2]': 'NN'}, {'bias': 1.0, 'word.lower()': 'mahsouli', 'word[-3:]': 'uli', 'word[-2:]': 'li', 'word.isupper()': False, 'word.istitle()': True, 'word.isdigit()': False, 'postag': 'NNP', 'postag[:2]': 'NN', '-1:word.lower()': 'sadeq', '-1:word.istitle()': True, '-1:word.isupper()': False, '-1:postag': 'NNP', '-1:postag[:2]': 'NN', '+1:word.lower()': '-', '+1:word.istitle()': False, '+1:word.isupper()': False, '+1:postag': 'IN', '+1:postag[:2]': 'IN'}, {'bias': 1.0, 'word.lower()': '-', 'word[-3:]': '-', 'word[-2:]': '-', 'word.isupper()': False, 'word.istitle()': False, 'word.isdigit()': False, 'postag': 'IN', 'postag[:2]': 'IN', '-1:word.lower()': 'mahsouli', '-1:word.istitle()': True, '-1:word.isupper()': False, '-1:postag': 'NNP', '-1:postag[:2]': 'NN', '+1:word.lower()': 'a', '+1:word.istitle()': False, '+1:word.isupper()': False, '+1:postag': 'DT', '+1:postag[:2]': 'DT'}, {'bias': 1.0, 'word.lower()': 'a', 'word[-3:]': 'a', 'word[-2:]': 'a', 'word.isupper()': False, 'word.istitle()': False, 'word.isdigit()': False, 'postag': 'DT', 'postag[:2]': 'DT', '-1:word.lower()': '-', '-1:word.istitle()': False, '-1:word.isupper()': False, '-1:postag': 'IN', '-1:postag[:2]': 'IN', '+1:word.lower()': 'revolutionary', '+1:word.istitle()': True, '+1:word.isupper()': False, '+1:postag': 'JJ', '+1:postag[:2]': 'JJ'}, {'bias': 1.0, 'word.lower()': 'revolutionary', 'word[-3:]': 'ary', 'word[-2:]': 'ry', 'word.isupper()': False, 'word.istitle()': True, 'word.isdigit()': False, 'postag': 'JJ', 'postag[:2]': 'JJ', '-1:word.lower()': 'a', '-1:word.istitle()': False, '-1:word.isupper()': False, '-1:postag': 'DT', '-1:postag[:2]': 'DT', '+1:word.lower()': 'guards', '+1:word.istitle()': True, '+1:word.isupper()': False, '+1:postag': 'NNP', '+1:postag[:2]': 'NN'}, {'bias': 1.0, 'word.lower()': 'guards', 'word[-3:]': 'rds', 'word[-2:]': 'ds', 'word.isupper()': False, 'word.istitle()': True, 'word.isdigit()': False, 'postag': 'NNP', 'postag[:2]': 'NN', '-1:word.lower()': 'revolutionary', '-1:word.istitle()': True, '-1:word.isupper()': False, '-1:postag': 'JJ', '-1:postag[:2]': 'JJ', '+1:word.lower()': 'commander', '+1:word.istitle()': False, '+1:word.isupper()': False, '+1:postag': 'NN', '+1:postag[:2]': 'NN'}, {'bias': 1.0, 'word.lower()': 'commander', 'word[-3:]': 'der', 'word[-2:]': 'er', 'word.isupper()': False, 'word.istitle()': False, 'word.isdigit()': False, 'postag': 'NN', 'postag[:2]': 'NN', '-1:word.lower()': 'guards', '-1:word.istitle()': True, '-1:word.isupper()': False, '-1:postag': 'NNP', '-1:postag[:2]': 'NN', '+1:word.lower()': 'with', '+1:word.istitle()': False, '+1:word.isupper()': False, '+1:postag': 'IN', '+1:postag[:2]': 'IN'}, {'bias': 1.0, 'word.lower()': 'with', 'word[-3:]': 'ith', 'word[-2:]': 'th', 'word.isupper()': False, 'word.istitle()': False, 'word.isdigit()': False, 'postag': 'IN', 'postag[:2]': 'IN', '-1:word.lower()': 'commander', '-1:word.istitle()': False, '-1:word.isupper()': False, '-1:postag': 'NN', '-1:postag[:2]': 'NN', '+1:word.lower()': 'no', '+1:word.istitle()': False, '+1:word.isupper()': False, '+1:postag': 'DT', '+1:postag[:2]': 'DT'}, {'bias': 1.0, 'word.lower()': 'no', 'word[-3:]': 'no', 'word[-2:]': 'no', 'word.isupper()': False, 'word.istitle()': False, 'word.isdigit()': False, 'postag': 'DT', 'postag[:2]': 'DT', '-1:word.lower()': 'with', '-1:word.istitle()': False, '-1:word.isupper()': False, '-1:postag': 'IN', '-1:postag[:2]': 'IN', '+1:word.lower()': 'oil', '+1:word.istitle()': False, '+1:word.isupper()': False, '+1:postag': 'NN', '+1:postag[:2]': 'NN'}, {'bias': 1.0, 'word.lower()': 'oil', 'word[-3:]': 'oil', 'word[-2:]': 'il', 'word.isupper()': False, 'word.istitle()': False, 'word.isdigit()': False, 'postag': 'NN', 'postag[:2]': 'NN', '-1:word.lower()': 'no', '-1:word.istitle()': False, '-1:word.isupper()': False, '-1:postag': 'DT', '-1:postag[:2]': 'DT', '+1:word.lower()': 'experience', '+1:word.istitle()': False, '+1:word.isupper()': False, '+1:postag': 'NN', '+1:postag[:2]': 'NN'}, {'bias': 1.0, 'word.lower()': 'experience', 'word[-3:]': 'nce', 'word[-2:]': 'ce', 'word.isupper()': False, 'word.istitle()': False, 'word.isdigit()': False, 'postag': 'NN', 'postag[:2]': 'NN', '-1:word.lower()': 'oil', '-1:word.istitle()': False, '-1:word.isupper()': False, '-1:postag': 'NN', '-1:postag[:2]': 'NN', '+1:word.lower()': '-', '+1:word.istitle()': False, '+1:word.isupper()': False, '+1:postag': ':', '+1:postag[:2]': ':'}, {'bias': 1.0, 'word.lower()': '-', 'word[-3:]': '-', 'word[-2:]': '-', 'word.isupper()': False, 'word.istitle()': False, 'word.isdigit()': False, 'postag': ':', 'postag[:2]': ':', '-1:word.lower()': 'experience', '-1:word.istitle()': False, '-1:word.isupper()': False, '-1:postag': 'NN', '-1:postag[:2]': 'NN', '+1:word.lower()': 'withdrew', '+1:word.istitle()': False, '+1:word.isupper()': False, '+1:postag': 'VBD', '+1:postag[:2]': 'VB'}, {'bias': 1.0, 'word.lower()': 'withdrew', 'word[-3:]': 'rew', 'word[-2:]': 'ew', 'word.isupper()': False, 'word.istitle()': False, 'word.isdigit()': False, 'postag': 'VBD', 'postag[:2]': 'VB', '-1:word.lower()': '-', '-1:word.istitle()': False, '-1:word.isupper()': False, '-1:postag': ':', '-1:postag[:2]': ':', '+1:word.lower()': 'his', '+1:word.istitle()': False, '+1:word.isupper()': False, '+1:postag': 'PRP$', '+1:postag[:2]': 'PR'}, {'bias': 1.0, 'word.lower()': 'his', 'word[-3:]': 'his', 'word[-2:]': 'is', 'word.isupper()': False, 'word.istitle()': False, 'word.isdigit()': False, 'postag': 'PRP$', 'postag[:2]': 'PR', '-1:word.lower()': 'withdrew', '-1:word.istitle()': False, '-1:word.isupper()': False, '-1:postag': 'VBD', '-1:postag[:2]': 'VB', '+1:word.lower()': 'candidacy', '+1:word.istitle()': False, '+1:word.isupper()': False, '+1:postag': 'NN', '+1:postag[:2]': 'NN'}, {'bias': 1.0, 'word.lower()': 'candidacy', 'word[-3:]': 'acy', 'word[-2:]': 'cy', 'word.isupper()': False, 'word.istitle()': False, 'word.isdigit()': False, 'postag': 'NN', 'postag[:2]': 'NN', '-1:word.lower()': 'his', '-1:word.istitle()': False, '-1:word.isupper()': False, '-1:postag': 'PRP$', '-1:postag[:2]': 'PR', '+1:word.lower()': 'earlier', '+1:word.istitle()': False, '+1:word.isupper()': False, '+1:postag': 'RBR', '+1:postag[:2]': 'RB'}, {'bias': 1.0, 'word.lower()': 'earlier', 'word[-3:]': 'ier', 'word[-2:]': 'er', 'word.isupper()': False, 'word.istitle()': False, 'word.isdigit()': False, 'postag': 'RBR', 'postag[:2]': 'RB', '-1:word.lower()': 'candidacy', '-1:word.istitle()': False, '-1:word.isupper()': False, '-1:postag': 'NN', '-1:postag[:2]': 'NN', '+1:word.lower()': 'this', '+1:word.istitle()': False, '+1:word.isupper()': False, '+1:postag': 'DT', '+1:postag[:2]': 'DT'}, {'bias': 1.0, 'word.lower()': 'this', 'word[-3:]': 'his', 'word[-2:]': 'is', 'word.isupper()': False, 'word.istitle()': False, 'word.isdigit()': False, 'postag': 'DT', 'postag[:2]': 'DT', '-1:word.lower()': 'earlier', '-1:word.istitle()': False, '-1:word.isupper()': False, '-1:postag': 'RBR', '-1:postag[:2]': 'RB', '+1:word.lower()': 'month', '+1:word.istitle()': False, '+1:word.isupper()': False, '+1:postag': 'NN', '+1:postag[:2]': 'NN'}, {'bias': 1.0, 'word.lower()': 'month', 'word[-3:]': 'nth', 'word[-2:]': 'th', 'word.isupper()': False, 'word.istitle()': False, 'word.isdigit()': False, 'postag': 'NN', 'postag[:2]': 'NN', '-1:word.lower()': 'this', '-1:word.istitle()': False, '-1:word.isupper()': False, '-1:postag': 'DT', '-1:postag[:2]': 'DT', '+1:word.lower()': 'when', '+1:word.istitle()': False, '+1:word.isupper()': False, '+1:postag': 'WRB', '+1:postag[:2]': 'WR'}, {'bias': 1.0, 'word.lower()': 'when', 'word[-3:]': 'hen', 'word[-2:]': 'en', 'word.isupper()': False, 'word.istitle()': False, 'word.isdigit()': False, 'postag': 'WRB', 'postag[:2]': 'WR', '-1:word.lower()': 'month', '-1:word.istitle()': False, '-1:word.isupper()': False, '-1:postag': 'NN', '-1:postag[:2]': 'NN', '+1:word.lower()': 'it', '+1:word.istitle()': False, '+1:word.isupper()': False, '+1:postag': 'PRP', '+1:postag[:2]': 'PR'}, {'bias': 1.0, 'word.lower()': 'it', 'word[-3:]': 'it', 'word[-2:]': 'it', 'word.isupper()': False, 'word.istitle()': False, 'word.isdigit()': False, 'postag': 'PRP', 'postag[:2]': 'PR', '-1:word.lower()': 'when', '-1:word.istitle()': False, '-1:word.isupper()': False, '-1:postag': 'WRB', '-1:postag[:2]': 'WR', '+1:word.lower()': 'became', '+1:word.istitle()': False, '+1:word.isupper()': False, '+1:postag': 'VBD', '+1:postag[:2]': 'VB'}, {'bias': 1.0, 'word.lower()': 'became', 'word[-3:]': 'ame', 'word[-2:]': 'me', 'word.isupper()': False, 'word.istitle()': False, 'word.isdigit()': False, 'postag': 'VBD', 'postag[:2]': 'VB', '-1:word.lower()': 'it', '-1:word.istitle()': False, '-1:word.isupper()': False, '-1:postag': 'PRP', '-1:postag[:2]': 'PR', '+1:word.lower()': 'clear', '+1:word.istitle()': False, '+1:word.isupper()': False, '+1:postag': 'JJ', '+1:postag[:2]': 'JJ'}, {'bias': 1.0, 'word.lower()': 'clear', 'word[-3:]': 'ear', 'word[-2:]': 'ar', 'word.isupper()': False, 'word.istitle()': False, 'word.isdigit()': False, 'postag': 'JJ', 'postag[:2]': 'JJ', '-1:word.lower()': 'became', '-1:word.istitle()': False, '-1:word.isupper()': False, '-1:postag': 'VBD', '-1:postag[:2]': 'VB', '+1:word.lower()': 'parliament', '+1:word.istitle()': False, '+1:word.isupper()': False, '+1:postag': 'NN', '+1:postag[:2]': 'NN'}, {'bias': 1.0, 'word.lower()': 'parliament', 'word[-3:]': 'ent', 'word[-2:]': 'nt', 'word.isupper()': False, 'word.istitle()': False, 'word.isdigit()': False, 'postag': 'NN', 'postag[:2]': 'NN', '-1:word.lower()': 'clear', '-1:word.istitle()': False, '-1:word.isupper()': False, '-1:postag': 'JJ', '-1:postag[:2]': 'JJ', '+1:word.lower()': 'would', '+1:word.istitle()': False, '+1:word.isupper()': False, '+1:postag': 'MD', '+1:postag[:2]': 'MD'}, {'bias': 1.0, 'word.lower()': 'would', 'word[-3:]': 'uld', 'word[-2:]': 'ld', 'word.isupper()': False, 'word.istitle()': False, 'word.isdigit()': False, 'postag': 'MD', 'postag[:2]': 'MD', '-1:word.lower()': 'parliament', '-1:word.istitle()': False, '-1:word.isupper()': False, '-1:postag': 'NN', '-1:postag[:2]': 'NN', '+1:word.lower()': 'reject', '+1:word.istitle()': False, '+1:word.isupper()': False, '+1:postag': 'VB', '+1:postag[:2]': 'VB'}, {'bias': 1.0, 'word.lower()': 'reject', 'word[-3:]': 'ect', 'word[-2:]': 'ct', 'word.isupper()': False, 'word.istitle()': False, 'word.isdigit()': False, 'postag': 'VB', 'postag[:2]': 'VB', '-1:word.lower()': 'would', '-1:word.istitle()': False, '-1:word.isupper()': False, '-1:postag': 'MD', '-1:postag[:2]': 'MD', '+1:word.lower()': 'him', '+1:word.istitle()': False, '+1:word.isupper()': False, '+1:postag': 'PRP', '+1:postag[:2]': 'PR'}, {'bias': 1.0, 'word.lower()': 'him', 'word[-3:]': 'him', 'word[-2:]': 'im', 'word.isupper()': False, 'word.istitle()': False, 'word.isdigit()': False, 'postag': 'PRP', 'postag[:2]': 'PR', '-1:word.lower()': 'reject', '-1:word.istitle()': False, '-1:word.isupper()': False, '-1:postag': 'VB', '-1:postag[:2]': 'VB', '+1:word.lower()': 'as', '+1:word.istitle()': False, '+1:word.isupper()': False, '+1:postag': 'RB', '+1:postag[:2]': 'RB'}, {'bias': 1.0, 'word.lower()': 'as', 'word[-3:]': 'as', 'word[-2:]': 'as', 'word.isupper()': False, 'word.istitle()': False, 'word.isdigit()': False, 'postag': 'RB', 'postag[:2]': 'RB', '-1:word.lower()': 'him', '-1:word.istitle()': False, '-1:word.isupper()': False, '-1:postag': 'PRP', '-1:postag[:2]': 'PR', '+1:word.lower()': 'well', '+1:word.istitle()': False, '+1:word.isupper()': False, '+1:postag': 'RB', '+1:postag[:2]': 'RB'}, {'bias': 1.0, 'word.lower()': 'well', 'word[-3:]': 'ell', 'word[-2:]': 'll', 'word.isupper()': False, 'word.istitle()': False, 'word.isdigit()': False, 'postag': 'RB', 'postag[:2]': 'RB', '-1:word.lower()': 'as', '-1:word.istitle()': False, '-1:word.isupper()': False, '-1:postag': 'RB', '-1:postag[:2]': 'RB', '+1:word.lower()': '.', '+1:word.istitle()': False, '+1:word.isupper()': False, '+1:postag': '.', '+1:postag[:2]': '.'}, {'bias': 1.0, 'word.lower()': '.', 'word[-3:]': '.', 'word[-2:]': '.', 'word.isupper()': False, 'word.istitle()': False, 'word.isdigit()': False, 'postag': '.', 'postag[:2]': '.', '-1:word.lower()': 'well', '-1:word.istitle()': False, '-1:word.isupper()': False, '-1:postag': 'RB', '-1:postag[:2]': 'RB', 'EOS': True}]\n",
            "['O', 'O', 'O', 'O', 'B-org', 'I-org', 'I-org', 'O', 'O', 'B-org', 'I-org', 'O', 'O', 'O', 'O', 'O', 'O', 'O', 'O', 'O', 'O', 'O', 'O', 'O', 'O', 'O', 'O', 'O', 'O', 'O', 'O', 'O', 'O', 'O']\n"
          ],
          "name": "stdout"
        }
      ]
    },
    {
      "cell_type": "markdown",
      "metadata": {
        "id": "xDX4xXI6uttS"
      },
      "source": [
        "Pelatihan dengan metode CRF"
      ]
    },
    {
      "cell_type": "code",
      "metadata": {
        "colab": {
          "base_uri": "https://localhost:8080/"
        },
        "id": "p1tNgTLCuttT",
        "outputId": "d9e864ff-02fb-4c9f-f494-bb8e31478b39"
      },
      "source": [
        "crf = sklearn_crfsuite.CRF(\n",
        "    algorithm='lbfgs',\n",
        "    c1=0.1,\n",
        "    c2=0.1,\n",
        "    max_iterations=100,\n",
        "    all_possible_transitions=True\n",
        ")\n",
        "crf.fit(X_train, y_train)"
      ],
      "execution_count": null,
      "outputs": [
        {
          "output_type": "stream",
          "text": [
            "/usr/local/lib/python3.6/dist-packages/sklearn/base.py:197: FutureWarning: From version 0.24, get_params will raise an AttributeError if a parameter cannot be retrieved as an instance attribute. Previously it would return None.\n",
            "  FutureWarning)\n"
          ],
          "name": "stderr"
        },
        {
          "output_type": "execute_result",
          "data": {
            "text/plain": [
              "CRF(algorithm='lbfgs', all_possible_states=None, all_possible_transitions=True,\n",
              "    averaging=None, c=None, c1=0.1, c2=0.1, calibration_candidates=None,\n",
              "    calibration_eta=None, calibration_max_trials=None, calibration_rate=None,\n",
              "    calibration_samples=None, delta=None, epsilon=None, error_sensitive=None,\n",
              "    gamma=None, keep_tempfiles=None, linesearch=None, max_iterations=100,\n",
              "    max_linesearch=None, min_freq=None, model_filename=None, num_memories=None,\n",
              "    pa_type=None, period=None, trainer_cls=None, variance=None, verbose=False)"
            ]
          },
          "metadata": {
            "tags": []
          },
          "execution_count": 50
        }
      ]
    },
    {
      "cell_type": "markdown",
      "metadata": {
        "id": "BFiM8wxzuttV"
      },
      "source": [
        "Prediksi label data test.\n",
        "\n",
        "Print metriks evaluasi."
      ]
    },
    {
      "cell_type": "code",
      "metadata": {
        "colab": {
          "base_uri": "https://localhost:8080/"
        },
        "id": "oEMHbK7xuttW",
        "outputId": "6331057c-75aa-42b9-ad7e-0a2468382960"
      },
      "source": [
        "y_pred = crf.predict(X_test)\n",
        "print(metrics.flat_classification_report(y_test, y_pred, labels = new_classes))"
      ],
      "execution_count": null,
      "outputs": [
        {
          "output_type": "stream",
          "text": [
            "              precision    recall  f1-score   support\n",
            "\n",
            "       B-art       1.00      0.03      0.07        29\n",
            "       B-eve       0.86      0.25      0.39        24\n",
            "       B-geo       0.75      0.88      0.81      1043\n",
            "       B-gpe       0.89      0.78      0.83       588\n",
            "       B-nat       0.67      0.20      0.31        10\n",
            "       B-org       0.75      0.64      0.69       649\n",
            "       B-per       0.81      0.81      0.81       546\n",
            "       B-tim       0.90      0.85      0.87       589\n",
            "       I-art       0.00      0.00      0.00         7\n",
            "       I-eve       0.57      0.22      0.32        18\n",
            "       I-geo       0.71      0.71      0.71       204\n",
            "       I-gpe       0.47      0.53      0.50        17\n",
            "       I-nat       1.00      0.50      0.67         2\n",
            "       I-org       0.78      0.73      0.76       545\n",
            "       I-per       0.80      0.90      0.85       574\n",
            "       I-tim       0.79      0.68      0.73       185\n",
            "\n",
            "   micro avg       0.80      0.78      0.79      5030\n",
            "   macro avg       0.73      0.54      0.58      5030\n",
            "weighted avg       0.80      0.78      0.78      5030\n",
            "\n"
          ],
          "name": "stdout"
        },
        {
          "output_type": "stream",
          "text": [
            "/usr/local/lib/python3.6/dist-packages/sklearn/metrics/_classification.py:1272: UndefinedMetricWarning: Precision and F-score are ill-defined and being set to 0.0 in labels with no predicted samples. Use `zero_division` parameter to control this behavior.\n",
            "  _warn_prf(average, modifier, msg_start, len(result))\n"
          ],
          "name": "stderr"
        }
      ]
    },
    {
      "cell_type": "markdown",
      "metadata": {
        "id": "iJ16-Zu1lODL"
      },
      "source": [
        "# Tanpa ortografi"
      ]
    },
    {
      "cell_type": "code",
      "metadata": {
        "id": "no1ZmUH9fkTM"
      },
      "source": [
        "def word2features(sent, i):\n",
        "    word = sent[i][0]\n",
        "    postag = sent[i][1]\n",
        "    \n",
        "    features = {\n",
        "        'bias': 1.0, \n",
        "        # 'word.lower()': word.lower(), \n",
        "        'word[-3:]': word[-3:],\n",
        "        'word[-2:]': word[-2:],\n",
        "        # 'word.isupper()': word.isupper(),\n",
        "        # 'word.istitle()': word.istitle(),\n",
        "        # 'word.isdigit()': word.isdigit(),\n",
        "        'postag': postag,\n",
        "        'postag[:2]': postag[:2],\n",
        "    }\n",
        "    if i > 0:\n",
        "        word1 = sent[i-1][0]\n",
        "        postag1 = sent[i-1][1]\n",
        "        features.update({\n",
        "            # '-1:word.lower()': word1.lower(),\n",
        "            # '-1:word.istitle()': word1.istitle(),\n",
        "            # '-1:word.isupper()': word1.isupper(),\n",
        "            '-1:postag': postag1,\n",
        "            '-1:postag[:2]': postag1[:2],\n",
        "        })\n",
        "    else:\n",
        "        features['BOS'] = True\n",
        "    if i < len(sent)-1:\n",
        "        word1 = sent[i+1][0]\n",
        "        postag1 = sent[i+1][1]\n",
        "        features.update({\n",
        "            # '+1:word.lower()': word1.lower(),\n",
        "            # '+1:word.istitle()': word1.istitle(),\n",
        "            # '+1:word.isupper()': word1.isupper(),\n",
        "            '+1:postag': postag1,\n",
        "            '+1:postag[:2]': postag1[:2],\n",
        "        })\n",
        "    else:\n",
        "        features['EOS'] = True\n",
        "\n",
        "    return features\n",
        "\n",
        "def sent2features(sent):\n",
        "    return [word2features(sent, i) for i in range(len(sent))]\n",
        "\n",
        "def sent2labels(sent):\n",
        "    return [label for token, postag, label in sent]\n",
        "    \n",
        "def sent2tokens(sent):\n",
        "    return [token for token, postag, label in sent]"
      ],
      "execution_count": 8,
      "outputs": []
    },
    {
      "cell_type": "markdown",
      "metadata": {
        "id": "8YFcBzJRlSSY"
      },
      "source": [
        "Kelas/label tag, diproses supaya nanti label O tidak diperhitungkan untuk evaluasi"
      ]
    },
    {
      "cell_type": "code",
      "metadata": {
        "colab": {
          "base_uri": "https://localhost:8080/"
        },
        "id": "Bl24p0Dbg3HV",
        "outputId": "ee55f2a4-f985-4330-da6c-62ca73118ee0"
      },
      "source": [
        "y = df.Tag.values\n",
        "classes = np.unique(y)\n",
        "classes = classes.tolist()\n",
        "new_classes = classes.copy()\n",
        "new_classes.pop()\n",
        "new_classes"
      ],
      "execution_count": 9,
      "outputs": [
        {
          "output_type": "execute_result",
          "data": {
            "text/plain": [
              "['B-art',\n",
              " 'B-eve',\n",
              " 'B-geo',\n",
              " 'B-gpe',\n",
              " 'B-nat',\n",
              " 'B-org',\n",
              " 'B-per',\n",
              " 'B-tim',\n",
              " 'I-art',\n",
              " 'I-eve',\n",
              " 'I-geo',\n",
              " 'I-gpe',\n",
              " 'I-nat',\n",
              " 'I-org',\n",
              " 'I-per',\n",
              " 'I-tim']"
            ]
          },
          "metadata": {
            "tags": []
          },
          "execution_count": 9
        }
      ]
    },
    {
      "cell_type": "markdown",
      "metadata": {
        "id": "VmV5pND5lj6M"
      },
      "source": [
        "Ekstraksi fitur dan split data menjadi data train dan data test"
      ]
    },
    {
      "cell_type": "code",
      "metadata": {
        "id": "uefZxF2vfxYY"
      },
      "source": [
        "X = [sent2features(s) for s in sentences]\n",
        "y = [sent2labels(s) for s in sentences]\n",
        "X_train, X_test, y_train, y_test = train_test_split(X, y, test_size=0.33, random_state=0)"
      ],
      "execution_count": 10,
      "outputs": []
    },
    {
      "cell_type": "markdown",
      "metadata": {
        "id": "-k0ocnToloHi"
      },
      "source": [
        "Cek salah satu instance di data train"
      ]
    },
    {
      "cell_type": "code",
      "metadata": {
        "colab": {
          "base_uri": "https://localhost:8080/"
        },
        "id": "b6axuOpZhQj5",
        "outputId": "2d43012b-e09d-4825-d3e1-bfac4d398821"
      },
      "source": [
        "print(X_train[0])\n",
        "print(y_train[0])"
      ],
      "execution_count": 11,
      "outputs": [
        {
          "output_type": "stream",
          "text": [
            "[{'bias': 1.0, 'word[-3:]': 'A', 'word[-2:]': 'A', 'postag': 'DT', 'postag[:2]': 'DT', 'BOS': True, '+1:postag': 'JJ', '+1:postag[:2]': 'JJ'}, {'bias': 1.0, 'word[-3:]': 'ond', 'word[-2:]': 'nd', 'postag': 'JJ', 'postag[:2]': 'JJ', '-1:postag': 'DT', '-1:postag[:2]': 'DT', '+1:postag': 'NN', '+1:postag[:2]': 'NN'}, {'bias': 1.0, 'word[-3:]': 'nee', 'word[-2:]': 'ee', 'postag': 'NN', 'postag[:2]': 'NN', '-1:postag': 'JJ', '-1:postag[:2]': 'JJ', '+1:postag': ',', '+1:postag[:2]': ','}, {'bias': 1.0, 'word[-3:]': ',', 'word[-2:]': ',', 'postag': ',', 'postag[:2]': ',', '-1:postag': 'NN', '-1:postag[:2]': 'NN', '+1:postag': 'NNP', '+1:postag[:2]': 'NN'}, {'bias': 1.0, 'word[-3:]': 'ral', 'word[-2:]': 'al', 'postag': 'NNP', 'postag[:2]': 'NN', '-1:postag': ',', '-1:postag[:2]': ',', '+1:postag': 'NNP', '+1:postag[:2]': 'NN'}, {'bias': 1.0, 'word[-3:]': 'deq', 'word[-2:]': 'eq', 'postag': 'NNP', 'postag[:2]': 'NN', '-1:postag': 'NNP', '-1:postag[:2]': 'NN', '+1:postag': 'NNP', '+1:postag[:2]': 'NN'}, {'bias': 1.0, 'word[-3:]': 'uli', 'word[-2:]': 'li', 'postag': 'NNP', 'postag[:2]': 'NN', '-1:postag': 'NNP', '-1:postag[:2]': 'NN', '+1:postag': 'IN', '+1:postag[:2]': 'IN'}, {'bias': 1.0, 'word[-3:]': '-', 'word[-2:]': '-', 'postag': 'IN', 'postag[:2]': 'IN', '-1:postag': 'NNP', '-1:postag[:2]': 'NN', '+1:postag': 'DT', '+1:postag[:2]': 'DT'}, {'bias': 1.0, 'word[-3:]': 'a', 'word[-2:]': 'a', 'postag': 'DT', 'postag[:2]': 'DT', '-1:postag': 'IN', '-1:postag[:2]': 'IN', '+1:postag': 'JJ', '+1:postag[:2]': 'JJ'}, {'bias': 1.0, 'word[-3:]': 'ary', 'word[-2:]': 'ry', 'postag': 'JJ', 'postag[:2]': 'JJ', '-1:postag': 'DT', '-1:postag[:2]': 'DT', '+1:postag': 'NNP', '+1:postag[:2]': 'NN'}, {'bias': 1.0, 'word[-3:]': 'rds', 'word[-2:]': 'ds', 'postag': 'NNP', 'postag[:2]': 'NN', '-1:postag': 'JJ', '-1:postag[:2]': 'JJ', '+1:postag': 'NN', '+1:postag[:2]': 'NN'}, {'bias': 1.0, 'word[-3:]': 'der', 'word[-2:]': 'er', 'postag': 'NN', 'postag[:2]': 'NN', '-1:postag': 'NNP', '-1:postag[:2]': 'NN', '+1:postag': 'IN', '+1:postag[:2]': 'IN'}, {'bias': 1.0, 'word[-3:]': 'ith', 'word[-2:]': 'th', 'postag': 'IN', 'postag[:2]': 'IN', '-1:postag': 'NN', '-1:postag[:2]': 'NN', '+1:postag': 'DT', '+1:postag[:2]': 'DT'}, {'bias': 1.0, 'word[-3:]': 'no', 'word[-2:]': 'no', 'postag': 'DT', 'postag[:2]': 'DT', '-1:postag': 'IN', '-1:postag[:2]': 'IN', '+1:postag': 'NN', '+1:postag[:2]': 'NN'}, {'bias': 1.0, 'word[-3:]': 'oil', 'word[-2:]': 'il', 'postag': 'NN', 'postag[:2]': 'NN', '-1:postag': 'DT', '-1:postag[:2]': 'DT', '+1:postag': 'NN', '+1:postag[:2]': 'NN'}, {'bias': 1.0, 'word[-3:]': 'nce', 'word[-2:]': 'ce', 'postag': 'NN', 'postag[:2]': 'NN', '-1:postag': 'NN', '-1:postag[:2]': 'NN', '+1:postag': ':', '+1:postag[:2]': ':'}, {'bias': 1.0, 'word[-3:]': '-', 'word[-2:]': '-', 'postag': ':', 'postag[:2]': ':', '-1:postag': 'NN', '-1:postag[:2]': 'NN', '+1:postag': 'VBD', '+1:postag[:2]': 'VB'}, {'bias': 1.0, 'word[-3:]': 'rew', 'word[-2:]': 'ew', 'postag': 'VBD', 'postag[:2]': 'VB', '-1:postag': ':', '-1:postag[:2]': ':', '+1:postag': 'PRP$', '+1:postag[:2]': 'PR'}, {'bias': 1.0, 'word[-3:]': 'his', 'word[-2:]': 'is', 'postag': 'PRP$', 'postag[:2]': 'PR', '-1:postag': 'VBD', '-1:postag[:2]': 'VB', '+1:postag': 'NN', '+1:postag[:2]': 'NN'}, {'bias': 1.0, 'word[-3:]': 'acy', 'word[-2:]': 'cy', 'postag': 'NN', 'postag[:2]': 'NN', '-1:postag': 'PRP$', '-1:postag[:2]': 'PR', '+1:postag': 'RBR', '+1:postag[:2]': 'RB'}, {'bias': 1.0, 'word[-3:]': 'ier', 'word[-2:]': 'er', 'postag': 'RBR', 'postag[:2]': 'RB', '-1:postag': 'NN', '-1:postag[:2]': 'NN', '+1:postag': 'DT', '+1:postag[:2]': 'DT'}, {'bias': 1.0, 'word[-3:]': 'his', 'word[-2:]': 'is', 'postag': 'DT', 'postag[:2]': 'DT', '-1:postag': 'RBR', '-1:postag[:2]': 'RB', '+1:postag': 'NN', '+1:postag[:2]': 'NN'}, {'bias': 1.0, 'word[-3:]': 'nth', 'word[-2:]': 'th', 'postag': 'NN', 'postag[:2]': 'NN', '-1:postag': 'DT', '-1:postag[:2]': 'DT', '+1:postag': 'WRB', '+1:postag[:2]': 'WR'}, {'bias': 1.0, 'word[-3:]': 'hen', 'word[-2:]': 'en', 'postag': 'WRB', 'postag[:2]': 'WR', '-1:postag': 'NN', '-1:postag[:2]': 'NN', '+1:postag': 'PRP', '+1:postag[:2]': 'PR'}, {'bias': 1.0, 'word[-3:]': 'it', 'word[-2:]': 'it', 'postag': 'PRP', 'postag[:2]': 'PR', '-1:postag': 'WRB', '-1:postag[:2]': 'WR', '+1:postag': 'VBD', '+1:postag[:2]': 'VB'}, {'bias': 1.0, 'word[-3:]': 'ame', 'word[-2:]': 'me', 'postag': 'VBD', 'postag[:2]': 'VB', '-1:postag': 'PRP', '-1:postag[:2]': 'PR', '+1:postag': 'JJ', '+1:postag[:2]': 'JJ'}, {'bias': 1.0, 'word[-3:]': 'ear', 'word[-2:]': 'ar', 'postag': 'JJ', 'postag[:2]': 'JJ', '-1:postag': 'VBD', '-1:postag[:2]': 'VB', '+1:postag': 'NN', '+1:postag[:2]': 'NN'}, {'bias': 1.0, 'word[-3:]': 'ent', 'word[-2:]': 'nt', 'postag': 'NN', 'postag[:2]': 'NN', '-1:postag': 'JJ', '-1:postag[:2]': 'JJ', '+1:postag': 'MD', '+1:postag[:2]': 'MD'}, {'bias': 1.0, 'word[-3:]': 'uld', 'word[-2:]': 'ld', 'postag': 'MD', 'postag[:2]': 'MD', '-1:postag': 'NN', '-1:postag[:2]': 'NN', '+1:postag': 'VB', '+1:postag[:2]': 'VB'}, {'bias': 1.0, 'word[-3:]': 'ect', 'word[-2:]': 'ct', 'postag': 'VB', 'postag[:2]': 'VB', '-1:postag': 'MD', '-1:postag[:2]': 'MD', '+1:postag': 'PRP', '+1:postag[:2]': 'PR'}, {'bias': 1.0, 'word[-3:]': 'him', 'word[-2:]': 'im', 'postag': 'PRP', 'postag[:2]': 'PR', '-1:postag': 'VB', '-1:postag[:2]': 'VB', '+1:postag': 'RB', '+1:postag[:2]': 'RB'}, {'bias': 1.0, 'word[-3:]': 'as', 'word[-2:]': 'as', 'postag': 'RB', 'postag[:2]': 'RB', '-1:postag': 'PRP', '-1:postag[:2]': 'PR', '+1:postag': 'RB', '+1:postag[:2]': 'RB'}, {'bias': 1.0, 'word[-3:]': 'ell', 'word[-2:]': 'll', 'postag': 'RB', 'postag[:2]': 'RB', '-1:postag': 'RB', '-1:postag[:2]': 'RB', '+1:postag': '.', '+1:postag[:2]': '.'}, {'bias': 1.0, 'word[-3:]': '.', 'word[-2:]': '.', 'postag': '.', 'postag[:2]': '.', '-1:postag': 'RB', '-1:postag[:2]': 'RB', 'EOS': True}]\n",
            "['O', 'O', 'O', 'O', 'B-org', 'I-org', 'I-org', 'O', 'O', 'B-org', 'I-org', 'O', 'O', 'O', 'O', 'O', 'O', 'O', 'O', 'O', 'O', 'O', 'O', 'O', 'O', 'O', 'O', 'O', 'O', 'O', 'O', 'O', 'O', 'O']\n"
          ],
          "name": "stdout"
        }
      ]
    },
    {
      "cell_type": "markdown",
      "metadata": {
        "id": "sl_gAYwGlsdd"
      },
      "source": [
        "Pelatihan dengan metode CRF"
      ]
    },
    {
      "cell_type": "code",
      "metadata": {
        "colab": {
          "base_uri": "https://localhost:8080/"
        },
        "id": "EIQ73VIvf6SW",
        "outputId": "e4798ad8-5780-4ecf-c0bd-fdb350022bc1"
      },
      "source": [
        "crf = sklearn_crfsuite.CRF(\n",
        "    algorithm='lbfgs',\n",
        "    c1=0.1,\n",
        "    c2=0.1,\n",
        "    max_iterations=100,\n",
        "    all_possible_transitions=True\n",
        ")\n",
        "crf.fit(X_train, y_train)"
      ],
      "execution_count": 12,
      "outputs": [
        {
          "output_type": "stream",
          "text": [
            "/usr/local/lib/python3.6/dist-packages/sklearn/base.py:197: FutureWarning: From version 0.24, get_params will raise an AttributeError if a parameter cannot be retrieved as an instance attribute. Previously it would return None.\n",
            "  FutureWarning)\n"
          ],
          "name": "stderr"
        },
        {
          "output_type": "execute_result",
          "data": {
            "text/plain": [
              "CRF(algorithm='lbfgs', all_possible_states=None, all_possible_transitions=True,\n",
              "    averaging=None, c=None, c1=0.1, c2=0.1, calibration_candidates=None,\n",
              "    calibration_eta=None, calibration_max_trials=None, calibration_rate=None,\n",
              "    calibration_samples=None, delta=None, epsilon=None, error_sensitive=None,\n",
              "    gamma=None, keep_tempfiles=None, linesearch=None, max_iterations=100,\n",
              "    max_linesearch=None, min_freq=None, model_filename=None, num_memories=None,\n",
              "    pa_type=None, period=None, trainer_cls=None, variance=None, verbose=False)"
            ]
          },
          "metadata": {
            "tags": []
          },
          "execution_count": 12
        }
      ]
    },
    {
      "cell_type": "markdown",
      "metadata": {
        "id": "f14rTqHklxQL"
      },
      "source": [
        "Prediksi label data test.\n",
        "\n",
        "Print metriks evaluasi."
      ]
    },
    {
      "cell_type": "code",
      "metadata": {
        "colab": {
          "base_uri": "https://localhost:8080/"
        },
        "id": "edxURKp5f-uw",
        "outputId": "5fed77d3-9be5-46c2-cfb9-3e09019682f7"
      },
      "source": [
        "y_pred = crf.predict(X_test)\n",
        "print(metrics.flat_classification_report(y_test, y_pred, labels = new_classes))"
      ],
      "execution_count": 13,
      "outputs": [
        {
          "output_type": "stream",
          "text": [
            "              precision    recall  f1-score   support\n",
            "\n",
            "       B-art       0.33      0.03      0.06        29\n",
            "       B-eve       0.50      0.17      0.25        24\n",
            "       B-geo       0.72      0.87      0.79      1043\n",
            "       B-gpe       0.85      0.72      0.78       588\n",
            "       B-nat       0.00      0.00      0.00        10\n",
            "       B-org       0.74      0.59      0.65       649\n",
            "       B-per       0.80      0.80      0.80       546\n",
            "       B-tim       0.88      0.76      0.82       589\n",
            "       I-art       0.00      0.00      0.00         7\n",
            "       I-eve       0.44      0.22      0.30        18\n",
            "       I-geo       0.66      0.71      0.68       204\n",
            "       I-gpe       0.67      0.47      0.55        17\n",
            "       I-nat       0.00      0.00      0.00         2\n",
            "       I-org       0.75      0.70      0.72       545\n",
            "       I-per       0.79      0.90      0.84       574\n",
            "       I-tim       0.69      0.61      0.64       185\n",
            "\n",
            "   micro avg       0.77      0.75      0.76      5030\n",
            "   macro avg       0.55      0.47      0.49      5030\n",
            "weighted avg       0.76      0.75      0.75      5030\n",
            "\n"
          ],
          "name": "stdout"
        },
        {
          "output_type": "stream",
          "text": [
            "/usr/local/lib/python3.6/dist-packages/sklearn/metrics/_classification.py:1272: UndefinedMetricWarning: Precision and F-score are ill-defined and being set to 0.0 in labels with no predicted samples. Use `zero_division` parameter to control this behavior.\n",
            "  _warn_prf(average, modifier, msg_start, len(result))\n"
          ],
          "name": "stderr"
        }
      ]
    },
    {
      "cell_type": "markdown",
      "metadata": {
        "id": "xvFTFuCCNvaA"
      },
      "source": [
        "# Tanpa POSTaging"
      ]
    },
    {
      "cell_type": "code",
      "metadata": {
        "id": "EP0ykcMeL3kP"
      },
      "source": [
        "class SentenceGetterNoPos(object):\r\n",
        "    \r\n",
        "    def __init__(self, data):\r\n",
        "        self.n_sent = 1\r\n",
        "        self.data = data\r\n",
        "        self.empty = False\r\n",
        "        agg_func = lambda s: [(w, t) for w, t in zip(s['Word'].values.tolist(), s['Tag'].values.tolist())]\r\n",
        "        self.grouped = self.data.groupby('Sentence #').apply(agg_func)\r\n",
        "        self.sentences = [s for s in self.grouped]\r\n",
        "        \r\n",
        "    def get_next(self):\r\n",
        "        try: \r\n",
        "            s = self.grouped['Sentence: {}'.format(self.n_sent)]\r\n",
        "            self.n_sent += 1\r\n",
        "            return s \r\n",
        "        except:\r\n",
        "            return None\r\n",
        "\r\n",
        "getter = SentenceGetterNoPos(cek)\r\n",
        "sentences = getter.sentences"
      ],
      "execution_count": 14,
      "outputs": []
    },
    {
      "cell_type": "code",
      "metadata": {
        "id": "g-WEG6k8Ns7O"
      },
      "source": [
        "def word2features(sent, i):\r\n",
        "    word = sent[i][0]\r\n",
        "    # postag = sent[i][1]\r\n",
        "    \r\n",
        "    features = {\r\n",
        "        'bias': 1.0, \r\n",
        "        'word.lower()': word.lower(), \r\n",
        "        'word[-3:]': word[-3:],\r\n",
        "        'word[-2:]': word[-2:],\r\n",
        "        'word.isupper()': word.isupper(),\r\n",
        "        'word.istitle()': word.istitle(),\r\n",
        "        'word.isdigit()': word.isdigit(),\r\n",
        "        # 'postag': postag,\r\n",
        "        # 'postag[:2]': postag[:2],\r\n",
        "    }\r\n",
        "    if i > 0:\r\n",
        "        word1 = sent[i-1][0]\r\n",
        "        # postag1 = sent[i-1][1]\r\n",
        "        features.update({\r\n",
        "            '-1:word.lower()': word1.lower(),\r\n",
        "            '-1:word.istitle()': word1.istitle(),\r\n",
        "            '-1:word.isupper()': word1.isupper(),\r\n",
        "            # '-1:postag': postag1,\r\n",
        "            # '-1:postag[:2]': postag1[:2],\r\n",
        "        })\r\n",
        "    else:\r\n",
        "        features['BOS'] = True\r\n",
        "    if i < len(sent)-1:\r\n",
        "        word1 = sent[i+1][0]\r\n",
        "        # postag1 = sent[i+1][1]\r\n",
        "        features.update({\r\n",
        "            '+1:word.lower()': word1.lower(),\r\n",
        "            '+1:word.istitle()': word1.istitle(),\r\n",
        "            '+1:word.isupper()': word1.isupper(),\r\n",
        "            # '+1:postag': postag1,\r\n",
        "            # '+1:postag[:2]': postag1[:2],\r\n",
        "        })\r\n",
        "    else:\r\n",
        "        features['EOS'] = True\r\n",
        "\r\n",
        "    return features\r\n",
        "\r\n",
        "def sent2features(sent):\r\n",
        "    return [word2features(sent, i) for i in range(len(sent))]\r\n",
        "\r\n",
        "def sent2labels(sent):\r\n",
        "    return [label for token, label in sent]\r\n",
        "    \r\n",
        "def sent2tokens(sent):\r\n",
        "    return [token for token, label in sent]"
      ],
      "execution_count": 15,
      "outputs": []
    },
    {
      "cell_type": "code",
      "metadata": {
        "colab": {
          "base_uri": "https://localhost:8080/"
        },
        "id": "Bf0nmweMOCWU",
        "outputId": "f3733682-0afc-4fd5-b969-e30dc8ab0b50"
      },
      "source": [
        "y = df.Tag.values\r\n",
        "classes = np.unique(y)\r\n",
        "classes = classes.tolist()\r\n",
        "new_classes = classes.copy()\r\n",
        "new_classes.pop()\r\n",
        "new_classes"
      ],
      "execution_count": 16,
      "outputs": [
        {
          "output_type": "execute_result",
          "data": {
            "text/plain": [
              "['B-art',\n",
              " 'B-eve',\n",
              " 'B-geo',\n",
              " 'B-gpe',\n",
              " 'B-nat',\n",
              " 'B-org',\n",
              " 'B-per',\n",
              " 'B-tim',\n",
              " 'I-art',\n",
              " 'I-eve',\n",
              " 'I-geo',\n",
              " 'I-gpe',\n",
              " 'I-nat',\n",
              " 'I-org',\n",
              " 'I-per',\n",
              " 'I-tim']"
            ]
          },
          "metadata": {
            "tags": []
          },
          "execution_count": 16
        }
      ]
    },
    {
      "cell_type": "code",
      "metadata": {
        "id": "vc2LEwzyOIRx"
      },
      "source": [
        "X = [sent2features(s) for s in sentences]\r\n",
        "y = [sent2labels(s) for s in sentences]\r\n",
        "X_train, X_test, y_train, y_test = train_test_split(X, y, test_size=0.33, random_state=0)"
      ],
      "execution_count": 17,
      "outputs": []
    },
    {
      "cell_type": "code",
      "metadata": {
        "colab": {
          "base_uri": "https://localhost:8080/"
        },
        "id": "BFYq7p_DOOdY",
        "outputId": "00a27a79-89fb-4b83-ab24-d313b5664893"
      },
      "source": [
        "print(X_train[0])\r\n",
        "print(y_train[0])"
      ],
      "execution_count": 18,
      "outputs": [
        {
          "output_type": "stream",
          "text": [
            "[{'bias': 1.0, 'word.lower()': 'a', 'word[-3:]': 'A', 'word[-2:]': 'A', 'word.isupper()': True, 'word.istitle()': True, 'word.isdigit()': False, 'BOS': True, '+1:word.lower()': 'second', '+1:word.istitle()': False, '+1:word.isupper()': False}, {'bias': 1.0, 'word.lower()': 'second', 'word[-3:]': 'ond', 'word[-2:]': 'nd', 'word.isupper()': False, 'word.istitle()': False, 'word.isdigit()': False, '-1:word.lower()': 'a', '-1:word.istitle()': True, '-1:word.isupper()': True, '+1:word.lower()': 'nominee', '+1:word.istitle()': False, '+1:word.isupper()': False}, {'bias': 1.0, 'word.lower()': 'nominee', 'word[-3:]': 'nee', 'word[-2:]': 'ee', 'word.isupper()': False, 'word.istitle()': False, 'word.isdigit()': False, '-1:word.lower()': 'second', '-1:word.istitle()': False, '-1:word.isupper()': False, '+1:word.lower()': ',', '+1:word.istitle()': False, '+1:word.isupper()': False}, {'bias': 1.0, 'word.lower()': ',', 'word[-3:]': ',', 'word[-2:]': ',', 'word.isupper()': False, 'word.istitle()': False, 'word.isdigit()': False, '-1:word.lower()': 'nominee', '-1:word.istitle()': False, '-1:word.isupper()': False, '+1:word.lower()': 'general', '+1:word.istitle()': True, '+1:word.isupper()': False}, {'bias': 1.0, 'word.lower()': 'general', 'word[-3:]': 'ral', 'word[-2:]': 'al', 'word.isupper()': False, 'word.istitle()': True, 'word.isdigit()': False, '-1:word.lower()': ',', '-1:word.istitle()': False, '-1:word.isupper()': False, '+1:word.lower()': 'sadeq', '+1:word.istitle()': True, '+1:word.isupper()': False}, {'bias': 1.0, 'word.lower()': 'sadeq', 'word[-3:]': 'deq', 'word[-2:]': 'eq', 'word.isupper()': False, 'word.istitle()': True, 'word.isdigit()': False, '-1:word.lower()': 'general', '-1:word.istitle()': True, '-1:word.isupper()': False, '+1:word.lower()': 'mahsouli', '+1:word.istitle()': True, '+1:word.isupper()': False}, {'bias': 1.0, 'word.lower()': 'mahsouli', 'word[-3:]': 'uli', 'word[-2:]': 'li', 'word.isupper()': False, 'word.istitle()': True, 'word.isdigit()': False, '-1:word.lower()': 'sadeq', '-1:word.istitle()': True, '-1:word.isupper()': False, '+1:word.lower()': '-', '+1:word.istitle()': False, '+1:word.isupper()': False}, {'bias': 1.0, 'word.lower()': '-', 'word[-3:]': '-', 'word[-2:]': '-', 'word.isupper()': False, 'word.istitle()': False, 'word.isdigit()': False, '-1:word.lower()': 'mahsouli', '-1:word.istitle()': True, '-1:word.isupper()': False, '+1:word.lower()': 'a', '+1:word.istitle()': False, '+1:word.isupper()': False}, {'bias': 1.0, 'word.lower()': 'a', 'word[-3:]': 'a', 'word[-2:]': 'a', 'word.isupper()': False, 'word.istitle()': False, 'word.isdigit()': False, '-1:word.lower()': '-', '-1:word.istitle()': False, '-1:word.isupper()': False, '+1:word.lower()': 'revolutionary', '+1:word.istitle()': True, '+1:word.isupper()': False}, {'bias': 1.0, 'word.lower()': 'revolutionary', 'word[-3:]': 'ary', 'word[-2:]': 'ry', 'word.isupper()': False, 'word.istitle()': True, 'word.isdigit()': False, '-1:word.lower()': 'a', '-1:word.istitle()': False, '-1:word.isupper()': False, '+1:word.lower()': 'guards', '+1:word.istitle()': True, '+1:word.isupper()': False}, {'bias': 1.0, 'word.lower()': 'guards', 'word[-3:]': 'rds', 'word[-2:]': 'ds', 'word.isupper()': False, 'word.istitle()': True, 'word.isdigit()': False, '-1:word.lower()': 'revolutionary', '-1:word.istitle()': True, '-1:word.isupper()': False, '+1:word.lower()': 'commander', '+1:word.istitle()': False, '+1:word.isupper()': False}, {'bias': 1.0, 'word.lower()': 'commander', 'word[-3:]': 'der', 'word[-2:]': 'er', 'word.isupper()': False, 'word.istitle()': False, 'word.isdigit()': False, '-1:word.lower()': 'guards', '-1:word.istitle()': True, '-1:word.isupper()': False, '+1:word.lower()': 'with', '+1:word.istitle()': False, '+1:word.isupper()': False}, {'bias': 1.0, 'word.lower()': 'with', 'word[-3:]': 'ith', 'word[-2:]': 'th', 'word.isupper()': False, 'word.istitle()': False, 'word.isdigit()': False, '-1:word.lower()': 'commander', '-1:word.istitle()': False, '-1:word.isupper()': False, '+1:word.lower()': 'no', '+1:word.istitle()': False, '+1:word.isupper()': False}, {'bias': 1.0, 'word.lower()': 'no', 'word[-3:]': 'no', 'word[-2:]': 'no', 'word.isupper()': False, 'word.istitle()': False, 'word.isdigit()': False, '-1:word.lower()': 'with', '-1:word.istitle()': False, '-1:word.isupper()': False, '+1:word.lower()': 'oil', '+1:word.istitle()': False, '+1:word.isupper()': False}, {'bias': 1.0, 'word.lower()': 'oil', 'word[-3:]': 'oil', 'word[-2:]': 'il', 'word.isupper()': False, 'word.istitle()': False, 'word.isdigit()': False, '-1:word.lower()': 'no', '-1:word.istitle()': False, '-1:word.isupper()': False, '+1:word.lower()': 'experience', '+1:word.istitle()': False, '+1:word.isupper()': False}, {'bias': 1.0, 'word.lower()': 'experience', 'word[-3:]': 'nce', 'word[-2:]': 'ce', 'word.isupper()': False, 'word.istitle()': False, 'word.isdigit()': False, '-1:word.lower()': 'oil', '-1:word.istitle()': False, '-1:word.isupper()': False, '+1:word.lower()': '-', '+1:word.istitle()': False, '+1:word.isupper()': False}, {'bias': 1.0, 'word.lower()': '-', 'word[-3:]': '-', 'word[-2:]': '-', 'word.isupper()': False, 'word.istitle()': False, 'word.isdigit()': False, '-1:word.lower()': 'experience', '-1:word.istitle()': False, '-1:word.isupper()': False, '+1:word.lower()': 'withdrew', '+1:word.istitle()': False, '+1:word.isupper()': False}, {'bias': 1.0, 'word.lower()': 'withdrew', 'word[-3:]': 'rew', 'word[-2:]': 'ew', 'word.isupper()': False, 'word.istitle()': False, 'word.isdigit()': False, '-1:word.lower()': '-', '-1:word.istitle()': False, '-1:word.isupper()': False, '+1:word.lower()': 'his', '+1:word.istitle()': False, '+1:word.isupper()': False}, {'bias': 1.0, 'word.lower()': 'his', 'word[-3:]': 'his', 'word[-2:]': 'is', 'word.isupper()': False, 'word.istitle()': False, 'word.isdigit()': False, '-1:word.lower()': 'withdrew', '-1:word.istitle()': False, '-1:word.isupper()': False, '+1:word.lower()': 'candidacy', '+1:word.istitle()': False, '+1:word.isupper()': False}, {'bias': 1.0, 'word.lower()': 'candidacy', 'word[-3:]': 'acy', 'word[-2:]': 'cy', 'word.isupper()': False, 'word.istitle()': False, 'word.isdigit()': False, '-1:word.lower()': 'his', '-1:word.istitle()': False, '-1:word.isupper()': False, '+1:word.lower()': 'earlier', '+1:word.istitle()': False, '+1:word.isupper()': False}, {'bias': 1.0, 'word.lower()': 'earlier', 'word[-3:]': 'ier', 'word[-2:]': 'er', 'word.isupper()': False, 'word.istitle()': False, 'word.isdigit()': False, '-1:word.lower()': 'candidacy', '-1:word.istitle()': False, '-1:word.isupper()': False, '+1:word.lower()': 'this', '+1:word.istitle()': False, '+1:word.isupper()': False}, {'bias': 1.0, 'word.lower()': 'this', 'word[-3:]': 'his', 'word[-2:]': 'is', 'word.isupper()': False, 'word.istitle()': False, 'word.isdigit()': False, '-1:word.lower()': 'earlier', '-1:word.istitle()': False, '-1:word.isupper()': False, '+1:word.lower()': 'month', '+1:word.istitle()': False, '+1:word.isupper()': False}, {'bias': 1.0, 'word.lower()': 'month', 'word[-3:]': 'nth', 'word[-2:]': 'th', 'word.isupper()': False, 'word.istitle()': False, 'word.isdigit()': False, '-1:word.lower()': 'this', '-1:word.istitle()': False, '-1:word.isupper()': False, '+1:word.lower()': 'when', '+1:word.istitle()': False, '+1:word.isupper()': False}, {'bias': 1.0, 'word.lower()': 'when', 'word[-3:]': 'hen', 'word[-2:]': 'en', 'word.isupper()': False, 'word.istitle()': False, 'word.isdigit()': False, '-1:word.lower()': 'month', '-1:word.istitle()': False, '-1:word.isupper()': False, '+1:word.lower()': 'it', '+1:word.istitle()': False, '+1:word.isupper()': False}, {'bias': 1.0, 'word.lower()': 'it', 'word[-3:]': 'it', 'word[-2:]': 'it', 'word.isupper()': False, 'word.istitle()': False, 'word.isdigit()': False, '-1:word.lower()': 'when', '-1:word.istitle()': False, '-1:word.isupper()': False, '+1:word.lower()': 'became', '+1:word.istitle()': False, '+1:word.isupper()': False}, {'bias': 1.0, 'word.lower()': 'became', 'word[-3:]': 'ame', 'word[-2:]': 'me', 'word.isupper()': False, 'word.istitle()': False, 'word.isdigit()': False, '-1:word.lower()': 'it', '-1:word.istitle()': False, '-1:word.isupper()': False, '+1:word.lower()': 'clear', '+1:word.istitle()': False, '+1:word.isupper()': False}, {'bias': 1.0, 'word.lower()': 'clear', 'word[-3:]': 'ear', 'word[-2:]': 'ar', 'word.isupper()': False, 'word.istitle()': False, 'word.isdigit()': False, '-1:word.lower()': 'became', '-1:word.istitle()': False, '-1:word.isupper()': False, '+1:word.lower()': 'parliament', '+1:word.istitle()': False, '+1:word.isupper()': False}, {'bias': 1.0, 'word.lower()': 'parliament', 'word[-3:]': 'ent', 'word[-2:]': 'nt', 'word.isupper()': False, 'word.istitle()': False, 'word.isdigit()': False, '-1:word.lower()': 'clear', '-1:word.istitle()': False, '-1:word.isupper()': False, '+1:word.lower()': 'would', '+1:word.istitle()': False, '+1:word.isupper()': False}, {'bias': 1.0, 'word.lower()': 'would', 'word[-3:]': 'uld', 'word[-2:]': 'ld', 'word.isupper()': False, 'word.istitle()': False, 'word.isdigit()': False, '-1:word.lower()': 'parliament', '-1:word.istitle()': False, '-1:word.isupper()': False, '+1:word.lower()': 'reject', '+1:word.istitle()': False, '+1:word.isupper()': False}, {'bias': 1.0, 'word.lower()': 'reject', 'word[-3:]': 'ect', 'word[-2:]': 'ct', 'word.isupper()': False, 'word.istitle()': False, 'word.isdigit()': False, '-1:word.lower()': 'would', '-1:word.istitle()': False, '-1:word.isupper()': False, '+1:word.lower()': 'him', '+1:word.istitle()': False, '+1:word.isupper()': False}, {'bias': 1.0, 'word.lower()': 'him', 'word[-3:]': 'him', 'word[-2:]': 'im', 'word.isupper()': False, 'word.istitle()': False, 'word.isdigit()': False, '-1:word.lower()': 'reject', '-1:word.istitle()': False, '-1:word.isupper()': False, '+1:word.lower()': 'as', '+1:word.istitle()': False, '+1:word.isupper()': False}, {'bias': 1.0, 'word.lower()': 'as', 'word[-3:]': 'as', 'word[-2:]': 'as', 'word.isupper()': False, 'word.istitle()': False, 'word.isdigit()': False, '-1:word.lower()': 'him', '-1:word.istitle()': False, '-1:word.isupper()': False, '+1:word.lower()': 'well', '+1:word.istitle()': False, '+1:word.isupper()': False}, {'bias': 1.0, 'word.lower()': 'well', 'word[-3:]': 'ell', 'word[-2:]': 'll', 'word.isupper()': False, 'word.istitle()': False, 'word.isdigit()': False, '-1:word.lower()': 'as', '-1:word.istitle()': False, '-1:word.isupper()': False, '+1:word.lower()': '.', '+1:word.istitle()': False, '+1:word.isupper()': False}, {'bias': 1.0, 'word.lower()': '.', 'word[-3:]': '.', 'word[-2:]': '.', 'word.isupper()': False, 'word.istitle()': False, 'word.isdigit()': False, '-1:word.lower()': 'well', '-1:word.istitle()': False, '-1:word.isupper()': False, 'EOS': True}]\n",
            "['O', 'O', 'O', 'O', 'B-org', 'I-org', 'I-org', 'O', 'O', 'B-org', 'I-org', 'O', 'O', 'O', 'O', 'O', 'O', 'O', 'O', 'O', 'O', 'O', 'O', 'O', 'O', 'O', 'O', 'O', 'O', 'O', 'O', 'O', 'O', 'O']\n"
          ],
          "name": "stdout"
        }
      ]
    },
    {
      "cell_type": "code",
      "metadata": {
        "colab": {
          "base_uri": "https://localhost:8080/"
        },
        "id": "NVQ0dTP5OjjS",
        "outputId": "9e2905eb-de7c-4061-a249-f277159c10ed"
      },
      "source": [
        "crf = sklearn_crfsuite.CRF(\r\n",
        "    algorithm='lbfgs',\r\n",
        "    c1=0.1,\r\n",
        "    c2=0.1,\r\n",
        "    max_iterations=100,\r\n",
        "    all_possible_transitions=True\r\n",
        ")\r\n",
        "crf.fit(X_train, y_train)"
      ],
      "execution_count": 19,
      "outputs": [
        {
          "output_type": "stream",
          "text": [
            "/usr/local/lib/python3.6/dist-packages/sklearn/base.py:197: FutureWarning: From version 0.24, get_params will raise an AttributeError if a parameter cannot be retrieved as an instance attribute. Previously it would return None.\n",
            "  FutureWarning)\n"
          ],
          "name": "stderr"
        },
        {
          "output_type": "execute_result",
          "data": {
            "text/plain": [
              "CRF(algorithm='lbfgs', all_possible_states=None, all_possible_transitions=True,\n",
              "    averaging=None, c=None, c1=0.1, c2=0.1, calibration_candidates=None,\n",
              "    calibration_eta=None, calibration_max_trials=None, calibration_rate=None,\n",
              "    calibration_samples=None, delta=None, epsilon=None, error_sensitive=None,\n",
              "    gamma=None, keep_tempfiles=None, linesearch=None, max_iterations=100,\n",
              "    max_linesearch=None, min_freq=None, model_filename=None, num_memories=None,\n",
              "    pa_type=None, period=None, trainer_cls=None, variance=None, verbose=False)"
            ]
          },
          "metadata": {
            "tags": []
          },
          "execution_count": 19
        }
      ]
    },
    {
      "cell_type": "code",
      "metadata": {
        "colab": {
          "base_uri": "https://localhost:8080/"
        },
        "id": "0XMCTXR5O2-w",
        "outputId": "c241d344-5bb1-4778-aee6-ace207d209e2"
      },
      "source": [
        "y_pred = crf.predict(X_test)\r\n",
        "print(metrics.flat_classification_report(y_test, y_pred, labels = new_classes))"
      ],
      "execution_count": 20,
      "outputs": [
        {
          "output_type": "stream",
          "text": [
            "              precision    recall  f1-score   support\n",
            "\n",
            "       B-art       0.00      0.00      0.00        29\n",
            "       B-eve       1.00      0.17      0.29        24\n",
            "       B-geo       0.76      0.87      0.81      1043\n",
            "       B-gpe       0.87      0.78      0.82       588\n",
            "       B-nat       0.80      0.40      0.53        10\n",
            "       B-org       0.74      0.61      0.67       649\n",
            "       B-per       0.81      0.77      0.79       546\n",
            "       B-tim       0.91      0.83      0.87       589\n",
            "       I-art       0.00      0.00      0.00         7\n",
            "       I-eve       1.00      0.11      0.20        18\n",
            "       I-geo       0.68      0.71      0.70       204\n",
            "       I-gpe       0.50      0.53      0.51        17\n",
            "       I-nat       1.00      0.50      0.67         2\n",
            "       I-org       0.78      0.73      0.75       545\n",
            "       I-per       0.79      0.89      0.83       574\n",
            "       I-tim       0.79      0.63      0.70       185\n",
            "\n",
            "   micro avg       0.79      0.77      0.78      5030\n",
            "   macro avg       0.71      0.53      0.57      5030\n",
            "weighted avg       0.79      0.77      0.77      5030\n",
            "\n"
          ],
          "name": "stdout"
        },
        {
          "output_type": "stream",
          "text": [
            "/usr/local/lib/python3.6/dist-packages/sklearn/metrics/_classification.py:1272: UndefinedMetricWarning: Precision and F-score are ill-defined and being set to 0.0 in labels with no predicted samples. Use `zero_division` parameter to control this behavior.\n",
            "  _warn_prf(average, modifier, msg_start, len(result))\n"
          ],
          "name": "stderr"
        }
      ]
    },
    {
      "cell_type": "markdown",
      "metadata": {
        "id": "07hiMNreBFsy"
      },
      "source": [
        "# Tanpa fitur akhiran"
      ]
    },
    {
      "cell_type": "code",
      "metadata": {
        "id": "gNQVd9dyv7Ec"
      },
      "source": [
        "getter = SentenceGetter(df)\r\n",
        "sentences = getter.sentences"
      ],
      "execution_count": 21,
      "outputs": []
    },
    {
      "cell_type": "code",
      "metadata": {
        "id": "Jo7oJiePPlo3"
      },
      "source": [
        "def word2features(sent, i):\r\n",
        "    word = sent[i][0]\r\n",
        "    postag = sent[i][1]\r\n",
        "    \r\n",
        "    features = {\r\n",
        "        'bias': 1.0, \r\n",
        "        'word.lower()': word.lower(), \r\n",
        "        # 'word[-3:]': word[-3:],\r\n",
        "        # 'word[-2:]': word[-2:],\r\n",
        "        'word.isupper()': word.isupper(),\r\n",
        "        'word.istitle()': word.istitle(),\r\n",
        "        'word.isdigit()': word.isdigit(),\r\n",
        "        'postag': postag,\r\n",
        "        'postag[:2]': postag[:2],\r\n",
        "    }\r\n",
        "    if i > 0:\r\n",
        "        word1 = sent[i-1][0]\r\n",
        "        postag1 = sent[i-1][1]\r\n",
        "        features.update({\r\n",
        "            '-1:word.lower()': word1.lower(),\r\n",
        "            '-1:word.istitle()': word1.istitle(),\r\n",
        "            '-1:word.isupper()': word1.isupper(),\r\n",
        "            '-1:postag': postag1,\r\n",
        "            '-1:postag[:2]': postag1[:2],\r\n",
        "        })\r\n",
        "    else:\r\n",
        "        features['BOS'] = True\r\n",
        "    if i < len(sent)-1:\r\n",
        "        word1 = sent[i+1][0]\r\n",
        "        postag1 = sent[i+1][1]\r\n",
        "        features.update({\r\n",
        "            '+1:word.lower()': word1.lower(),\r\n",
        "            '+1:word.istitle()': word1.istitle(),\r\n",
        "            '+1:word.isupper()': word1.isupper(),\r\n",
        "            '+1:postag': postag1,\r\n",
        "            '+1:postag[:2]': postag1[:2],\r\n",
        "        })\r\n",
        "    else:\r\n",
        "        features['EOS'] = True\r\n",
        "\r\n",
        "    return features\r\n",
        "\r\n",
        "def sent2features(sent):\r\n",
        "    return [word2features(sent, i) for i in range(len(sent))]\r\n",
        "\r\n",
        "def sent2labels(sent):\r\n",
        "    return [label for token, postag, label in sent]\r\n",
        "    \r\n",
        "def sent2tokens(sent):\r\n",
        "    return [token for token, postag, label in sent]"
      ],
      "execution_count": 22,
      "outputs": []
    },
    {
      "cell_type": "code",
      "metadata": {
        "colab": {
          "base_uri": "https://localhost:8080/"
        },
        "id": "VIWgt724mAzk",
        "outputId": "77f1b67e-bb99-4d59-e8f1-9565938e2703"
      },
      "source": [
        "y = df.Tag.values\r\n",
        "classes = np.unique(y)\r\n",
        "classes = classes.tolist()\r\n",
        "new_classes = classes.copy()\r\n",
        "new_classes.pop()\r\n",
        "new_classes"
      ],
      "execution_count": 23,
      "outputs": [
        {
          "output_type": "execute_result",
          "data": {
            "text/plain": [
              "['B-art',\n",
              " 'B-eve',\n",
              " 'B-geo',\n",
              " 'B-gpe',\n",
              " 'B-nat',\n",
              " 'B-org',\n",
              " 'B-per',\n",
              " 'B-tim',\n",
              " 'I-art',\n",
              " 'I-eve',\n",
              " 'I-geo',\n",
              " 'I-gpe',\n",
              " 'I-nat',\n",
              " 'I-org',\n",
              " 'I-per',\n",
              " 'I-tim']"
            ]
          },
          "metadata": {
            "tags": []
          },
          "execution_count": 23
        }
      ]
    },
    {
      "cell_type": "code",
      "metadata": {
        "id": "QuARQAx6m4Lm"
      },
      "source": [
        "X = [sent2features(s) for s in sentences]\r\n",
        "y = [sent2labels(s) for s in sentences]\r\n",
        "X_train, X_test, y_train, y_test = train_test_split(X, y, test_size=0.33, random_state=0)"
      ],
      "execution_count": 24,
      "outputs": []
    },
    {
      "cell_type": "code",
      "metadata": {
        "colab": {
          "base_uri": "https://localhost:8080/"
        },
        "id": "48JfcINem9Hd",
        "outputId": "ab189a13-1357-4e4b-a088-f711852f8a32"
      },
      "source": [
        "print(X_train[0])\r\n",
        "print(y_train[0])"
      ],
      "execution_count": 25,
      "outputs": [
        {
          "output_type": "stream",
          "text": [
            "[{'bias': 1.0, 'word.lower()': 'a', 'word.isupper()': True, 'word.istitle()': True, 'word.isdigit()': False, 'postag': 'DT', 'postag[:2]': 'DT', 'BOS': True, '+1:word.lower()': 'second', '+1:word.istitle()': False, '+1:word.isupper()': False, '+1:postag': 'JJ', '+1:postag[:2]': 'JJ'}, {'bias': 1.0, 'word.lower()': 'second', 'word.isupper()': False, 'word.istitle()': False, 'word.isdigit()': False, 'postag': 'JJ', 'postag[:2]': 'JJ', '-1:word.lower()': 'a', '-1:word.istitle()': True, '-1:word.isupper()': True, '-1:postag': 'DT', '-1:postag[:2]': 'DT', '+1:word.lower()': 'nominee', '+1:word.istitle()': False, '+1:word.isupper()': False, '+1:postag': 'NN', '+1:postag[:2]': 'NN'}, {'bias': 1.0, 'word.lower()': 'nominee', 'word.isupper()': False, 'word.istitle()': False, 'word.isdigit()': False, 'postag': 'NN', 'postag[:2]': 'NN', '-1:word.lower()': 'second', '-1:word.istitle()': False, '-1:word.isupper()': False, '-1:postag': 'JJ', '-1:postag[:2]': 'JJ', '+1:word.lower()': ',', '+1:word.istitle()': False, '+1:word.isupper()': False, '+1:postag': ',', '+1:postag[:2]': ','}, {'bias': 1.0, 'word.lower()': ',', 'word.isupper()': False, 'word.istitle()': False, 'word.isdigit()': False, 'postag': ',', 'postag[:2]': ',', '-1:word.lower()': 'nominee', '-1:word.istitle()': False, '-1:word.isupper()': False, '-1:postag': 'NN', '-1:postag[:2]': 'NN', '+1:word.lower()': 'general', '+1:word.istitle()': True, '+1:word.isupper()': False, '+1:postag': 'NNP', '+1:postag[:2]': 'NN'}, {'bias': 1.0, 'word.lower()': 'general', 'word.isupper()': False, 'word.istitle()': True, 'word.isdigit()': False, 'postag': 'NNP', 'postag[:2]': 'NN', '-1:word.lower()': ',', '-1:word.istitle()': False, '-1:word.isupper()': False, '-1:postag': ',', '-1:postag[:2]': ',', '+1:word.lower()': 'sadeq', '+1:word.istitle()': True, '+1:word.isupper()': False, '+1:postag': 'NNP', '+1:postag[:2]': 'NN'}, {'bias': 1.0, 'word.lower()': 'sadeq', 'word.isupper()': False, 'word.istitle()': True, 'word.isdigit()': False, 'postag': 'NNP', 'postag[:2]': 'NN', '-1:word.lower()': 'general', '-1:word.istitle()': True, '-1:word.isupper()': False, '-1:postag': 'NNP', '-1:postag[:2]': 'NN', '+1:word.lower()': 'mahsouli', '+1:word.istitle()': True, '+1:word.isupper()': False, '+1:postag': 'NNP', '+1:postag[:2]': 'NN'}, {'bias': 1.0, 'word.lower()': 'mahsouli', 'word.isupper()': False, 'word.istitle()': True, 'word.isdigit()': False, 'postag': 'NNP', 'postag[:2]': 'NN', '-1:word.lower()': 'sadeq', '-1:word.istitle()': True, '-1:word.isupper()': False, '-1:postag': 'NNP', '-1:postag[:2]': 'NN', '+1:word.lower()': '-', '+1:word.istitle()': False, '+1:word.isupper()': False, '+1:postag': 'IN', '+1:postag[:2]': 'IN'}, {'bias': 1.0, 'word.lower()': '-', 'word.isupper()': False, 'word.istitle()': False, 'word.isdigit()': False, 'postag': 'IN', 'postag[:2]': 'IN', '-1:word.lower()': 'mahsouli', '-1:word.istitle()': True, '-1:word.isupper()': False, '-1:postag': 'NNP', '-1:postag[:2]': 'NN', '+1:word.lower()': 'a', '+1:word.istitle()': False, '+1:word.isupper()': False, '+1:postag': 'DT', '+1:postag[:2]': 'DT'}, {'bias': 1.0, 'word.lower()': 'a', 'word.isupper()': False, 'word.istitle()': False, 'word.isdigit()': False, 'postag': 'DT', 'postag[:2]': 'DT', '-1:word.lower()': '-', '-1:word.istitle()': False, '-1:word.isupper()': False, '-1:postag': 'IN', '-1:postag[:2]': 'IN', '+1:word.lower()': 'revolutionary', '+1:word.istitle()': True, '+1:word.isupper()': False, '+1:postag': 'JJ', '+1:postag[:2]': 'JJ'}, {'bias': 1.0, 'word.lower()': 'revolutionary', 'word.isupper()': False, 'word.istitle()': True, 'word.isdigit()': False, 'postag': 'JJ', 'postag[:2]': 'JJ', '-1:word.lower()': 'a', '-1:word.istitle()': False, '-1:word.isupper()': False, '-1:postag': 'DT', '-1:postag[:2]': 'DT', '+1:word.lower()': 'guards', '+1:word.istitle()': True, '+1:word.isupper()': False, '+1:postag': 'NNP', '+1:postag[:2]': 'NN'}, {'bias': 1.0, 'word.lower()': 'guards', 'word.isupper()': False, 'word.istitle()': True, 'word.isdigit()': False, 'postag': 'NNP', 'postag[:2]': 'NN', '-1:word.lower()': 'revolutionary', '-1:word.istitle()': True, '-1:word.isupper()': False, '-1:postag': 'JJ', '-1:postag[:2]': 'JJ', '+1:word.lower()': 'commander', '+1:word.istitle()': False, '+1:word.isupper()': False, '+1:postag': 'NN', '+1:postag[:2]': 'NN'}, {'bias': 1.0, 'word.lower()': 'commander', 'word.isupper()': False, 'word.istitle()': False, 'word.isdigit()': False, 'postag': 'NN', 'postag[:2]': 'NN', '-1:word.lower()': 'guards', '-1:word.istitle()': True, '-1:word.isupper()': False, '-1:postag': 'NNP', '-1:postag[:2]': 'NN', '+1:word.lower()': 'with', '+1:word.istitle()': False, '+1:word.isupper()': False, '+1:postag': 'IN', '+1:postag[:2]': 'IN'}, {'bias': 1.0, 'word.lower()': 'with', 'word.isupper()': False, 'word.istitle()': False, 'word.isdigit()': False, 'postag': 'IN', 'postag[:2]': 'IN', '-1:word.lower()': 'commander', '-1:word.istitle()': False, '-1:word.isupper()': False, '-1:postag': 'NN', '-1:postag[:2]': 'NN', '+1:word.lower()': 'no', '+1:word.istitle()': False, '+1:word.isupper()': False, '+1:postag': 'DT', '+1:postag[:2]': 'DT'}, {'bias': 1.0, 'word.lower()': 'no', 'word.isupper()': False, 'word.istitle()': False, 'word.isdigit()': False, 'postag': 'DT', 'postag[:2]': 'DT', '-1:word.lower()': 'with', '-1:word.istitle()': False, '-1:word.isupper()': False, '-1:postag': 'IN', '-1:postag[:2]': 'IN', '+1:word.lower()': 'oil', '+1:word.istitle()': False, '+1:word.isupper()': False, '+1:postag': 'NN', '+1:postag[:2]': 'NN'}, {'bias': 1.0, 'word.lower()': 'oil', 'word.isupper()': False, 'word.istitle()': False, 'word.isdigit()': False, 'postag': 'NN', 'postag[:2]': 'NN', '-1:word.lower()': 'no', '-1:word.istitle()': False, '-1:word.isupper()': False, '-1:postag': 'DT', '-1:postag[:2]': 'DT', '+1:word.lower()': 'experience', '+1:word.istitle()': False, '+1:word.isupper()': False, '+1:postag': 'NN', '+1:postag[:2]': 'NN'}, {'bias': 1.0, 'word.lower()': 'experience', 'word.isupper()': False, 'word.istitle()': False, 'word.isdigit()': False, 'postag': 'NN', 'postag[:2]': 'NN', '-1:word.lower()': 'oil', '-1:word.istitle()': False, '-1:word.isupper()': False, '-1:postag': 'NN', '-1:postag[:2]': 'NN', '+1:word.lower()': '-', '+1:word.istitle()': False, '+1:word.isupper()': False, '+1:postag': ':', '+1:postag[:2]': ':'}, {'bias': 1.0, 'word.lower()': '-', 'word.isupper()': False, 'word.istitle()': False, 'word.isdigit()': False, 'postag': ':', 'postag[:2]': ':', '-1:word.lower()': 'experience', '-1:word.istitle()': False, '-1:word.isupper()': False, '-1:postag': 'NN', '-1:postag[:2]': 'NN', '+1:word.lower()': 'withdrew', '+1:word.istitle()': False, '+1:word.isupper()': False, '+1:postag': 'VBD', '+1:postag[:2]': 'VB'}, {'bias': 1.0, 'word.lower()': 'withdrew', 'word.isupper()': False, 'word.istitle()': False, 'word.isdigit()': False, 'postag': 'VBD', 'postag[:2]': 'VB', '-1:word.lower()': '-', '-1:word.istitle()': False, '-1:word.isupper()': False, '-1:postag': ':', '-1:postag[:2]': ':', '+1:word.lower()': 'his', '+1:word.istitle()': False, '+1:word.isupper()': False, '+1:postag': 'PRP$', '+1:postag[:2]': 'PR'}, {'bias': 1.0, 'word.lower()': 'his', 'word.isupper()': False, 'word.istitle()': False, 'word.isdigit()': False, 'postag': 'PRP$', 'postag[:2]': 'PR', '-1:word.lower()': 'withdrew', '-1:word.istitle()': False, '-1:word.isupper()': False, '-1:postag': 'VBD', '-1:postag[:2]': 'VB', '+1:word.lower()': 'candidacy', '+1:word.istitle()': False, '+1:word.isupper()': False, '+1:postag': 'NN', '+1:postag[:2]': 'NN'}, {'bias': 1.0, 'word.lower()': 'candidacy', 'word.isupper()': False, 'word.istitle()': False, 'word.isdigit()': False, 'postag': 'NN', 'postag[:2]': 'NN', '-1:word.lower()': 'his', '-1:word.istitle()': False, '-1:word.isupper()': False, '-1:postag': 'PRP$', '-1:postag[:2]': 'PR', '+1:word.lower()': 'earlier', '+1:word.istitle()': False, '+1:word.isupper()': False, '+1:postag': 'RBR', '+1:postag[:2]': 'RB'}, {'bias': 1.0, 'word.lower()': 'earlier', 'word.isupper()': False, 'word.istitle()': False, 'word.isdigit()': False, 'postag': 'RBR', 'postag[:2]': 'RB', '-1:word.lower()': 'candidacy', '-1:word.istitle()': False, '-1:word.isupper()': False, '-1:postag': 'NN', '-1:postag[:2]': 'NN', '+1:word.lower()': 'this', '+1:word.istitle()': False, '+1:word.isupper()': False, '+1:postag': 'DT', '+1:postag[:2]': 'DT'}, {'bias': 1.0, 'word.lower()': 'this', 'word.isupper()': False, 'word.istitle()': False, 'word.isdigit()': False, 'postag': 'DT', 'postag[:2]': 'DT', '-1:word.lower()': 'earlier', '-1:word.istitle()': False, '-1:word.isupper()': False, '-1:postag': 'RBR', '-1:postag[:2]': 'RB', '+1:word.lower()': 'month', '+1:word.istitle()': False, '+1:word.isupper()': False, '+1:postag': 'NN', '+1:postag[:2]': 'NN'}, {'bias': 1.0, 'word.lower()': 'month', 'word.isupper()': False, 'word.istitle()': False, 'word.isdigit()': False, 'postag': 'NN', 'postag[:2]': 'NN', '-1:word.lower()': 'this', '-1:word.istitle()': False, '-1:word.isupper()': False, '-1:postag': 'DT', '-1:postag[:2]': 'DT', '+1:word.lower()': 'when', '+1:word.istitle()': False, '+1:word.isupper()': False, '+1:postag': 'WRB', '+1:postag[:2]': 'WR'}, {'bias': 1.0, 'word.lower()': 'when', 'word.isupper()': False, 'word.istitle()': False, 'word.isdigit()': False, 'postag': 'WRB', 'postag[:2]': 'WR', '-1:word.lower()': 'month', '-1:word.istitle()': False, '-1:word.isupper()': False, '-1:postag': 'NN', '-1:postag[:2]': 'NN', '+1:word.lower()': 'it', '+1:word.istitle()': False, '+1:word.isupper()': False, '+1:postag': 'PRP', '+1:postag[:2]': 'PR'}, {'bias': 1.0, 'word.lower()': 'it', 'word.isupper()': False, 'word.istitle()': False, 'word.isdigit()': False, 'postag': 'PRP', 'postag[:2]': 'PR', '-1:word.lower()': 'when', '-1:word.istitle()': False, '-1:word.isupper()': False, '-1:postag': 'WRB', '-1:postag[:2]': 'WR', '+1:word.lower()': 'became', '+1:word.istitle()': False, '+1:word.isupper()': False, '+1:postag': 'VBD', '+1:postag[:2]': 'VB'}, {'bias': 1.0, 'word.lower()': 'became', 'word.isupper()': False, 'word.istitle()': False, 'word.isdigit()': False, 'postag': 'VBD', 'postag[:2]': 'VB', '-1:word.lower()': 'it', '-1:word.istitle()': False, '-1:word.isupper()': False, '-1:postag': 'PRP', '-1:postag[:2]': 'PR', '+1:word.lower()': 'clear', '+1:word.istitle()': False, '+1:word.isupper()': False, '+1:postag': 'JJ', '+1:postag[:2]': 'JJ'}, {'bias': 1.0, 'word.lower()': 'clear', 'word.isupper()': False, 'word.istitle()': False, 'word.isdigit()': False, 'postag': 'JJ', 'postag[:2]': 'JJ', '-1:word.lower()': 'became', '-1:word.istitle()': False, '-1:word.isupper()': False, '-1:postag': 'VBD', '-1:postag[:2]': 'VB', '+1:word.lower()': 'parliament', '+1:word.istitle()': False, '+1:word.isupper()': False, '+1:postag': 'NN', '+1:postag[:2]': 'NN'}, {'bias': 1.0, 'word.lower()': 'parliament', 'word.isupper()': False, 'word.istitle()': False, 'word.isdigit()': False, 'postag': 'NN', 'postag[:2]': 'NN', '-1:word.lower()': 'clear', '-1:word.istitle()': False, '-1:word.isupper()': False, '-1:postag': 'JJ', '-1:postag[:2]': 'JJ', '+1:word.lower()': 'would', '+1:word.istitle()': False, '+1:word.isupper()': False, '+1:postag': 'MD', '+1:postag[:2]': 'MD'}, {'bias': 1.0, 'word.lower()': 'would', 'word.isupper()': False, 'word.istitle()': False, 'word.isdigit()': False, 'postag': 'MD', 'postag[:2]': 'MD', '-1:word.lower()': 'parliament', '-1:word.istitle()': False, '-1:word.isupper()': False, '-1:postag': 'NN', '-1:postag[:2]': 'NN', '+1:word.lower()': 'reject', '+1:word.istitle()': False, '+1:word.isupper()': False, '+1:postag': 'VB', '+1:postag[:2]': 'VB'}, {'bias': 1.0, 'word.lower()': 'reject', 'word.isupper()': False, 'word.istitle()': False, 'word.isdigit()': False, 'postag': 'VB', 'postag[:2]': 'VB', '-1:word.lower()': 'would', '-1:word.istitle()': False, '-1:word.isupper()': False, '-1:postag': 'MD', '-1:postag[:2]': 'MD', '+1:word.lower()': 'him', '+1:word.istitle()': False, '+1:word.isupper()': False, '+1:postag': 'PRP', '+1:postag[:2]': 'PR'}, {'bias': 1.0, 'word.lower()': 'him', 'word.isupper()': False, 'word.istitle()': False, 'word.isdigit()': False, 'postag': 'PRP', 'postag[:2]': 'PR', '-1:word.lower()': 'reject', '-1:word.istitle()': False, '-1:word.isupper()': False, '-1:postag': 'VB', '-1:postag[:2]': 'VB', '+1:word.lower()': 'as', '+1:word.istitle()': False, '+1:word.isupper()': False, '+1:postag': 'RB', '+1:postag[:2]': 'RB'}, {'bias': 1.0, 'word.lower()': 'as', 'word.isupper()': False, 'word.istitle()': False, 'word.isdigit()': False, 'postag': 'RB', 'postag[:2]': 'RB', '-1:word.lower()': 'him', '-1:word.istitle()': False, '-1:word.isupper()': False, '-1:postag': 'PRP', '-1:postag[:2]': 'PR', '+1:word.lower()': 'well', '+1:word.istitle()': False, '+1:word.isupper()': False, '+1:postag': 'RB', '+1:postag[:2]': 'RB'}, {'bias': 1.0, 'word.lower()': 'well', 'word.isupper()': False, 'word.istitle()': False, 'word.isdigit()': False, 'postag': 'RB', 'postag[:2]': 'RB', '-1:word.lower()': 'as', '-1:word.istitle()': False, '-1:word.isupper()': False, '-1:postag': 'RB', '-1:postag[:2]': 'RB', '+1:word.lower()': '.', '+1:word.istitle()': False, '+1:word.isupper()': False, '+1:postag': '.', '+1:postag[:2]': '.'}, {'bias': 1.0, 'word.lower()': '.', 'word.isupper()': False, 'word.istitle()': False, 'word.isdigit()': False, 'postag': '.', 'postag[:2]': '.', '-1:word.lower()': 'well', '-1:word.istitle()': False, '-1:word.isupper()': False, '-1:postag': 'RB', '-1:postag[:2]': 'RB', 'EOS': True}]\n",
            "['O', 'O', 'O', 'O', 'B-org', 'I-org', 'I-org', 'O', 'O', 'B-org', 'I-org', 'O', 'O', 'O', 'O', 'O', 'O', 'O', 'O', 'O', 'O', 'O', 'O', 'O', 'O', 'O', 'O', 'O', 'O', 'O', 'O', 'O', 'O', 'O']\n"
          ],
          "name": "stdout"
        }
      ]
    },
    {
      "cell_type": "code",
      "metadata": {
        "id": "RUs6HoyBnAa1",
        "colab": {
          "base_uri": "https://localhost:8080/"
        },
        "outputId": "f09f9829-2aca-407b-b477-13cc4974e566"
      },
      "source": [
        "crf = sklearn_crfsuite.CRF(\r\n",
        "    algorithm='lbfgs',\r\n",
        "    c1=0.1,\r\n",
        "    c2=0.1,\r\n",
        "    max_iterations=100,\r\n",
        "    all_possible_transitions=True\r\n",
        ")\r\n",
        "crf.fit(X_train, y_train)"
      ],
      "execution_count": 26,
      "outputs": [
        {
          "output_type": "stream",
          "text": [
            "/usr/local/lib/python3.6/dist-packages/sklearn/base.py:197: FutureWarning: From version 0.24, get_params will raise an AttributeError if a parameter cannot be retrieved as an instance attribute. Previously it would return None.\n",
            "  FutureWarning)\n"
          ],
          "name": "stderr"
        },
        {
          "output_type": "execute_result",
          "data": {
            "text/plain": [
              "CRF(algorithm='lbfgs', all_possible_states=None, all_possible_transitions=True,\n",
              "    averaging=None, c=None, c1=0.1, c2=0.1, calibration_candidates=None,\n",
              "    calibration_eta=None, calibration_max_trials=None, calibration_rate=None,\n",
              "    calibration_samples=None, delta=None, epsilon=None, error_sensitive=None,\n",
              "    gamma=None, keep_tempfiles=None, linesearch=None, max_iterations=100,\n",
              "    max_linesearch=None, min_freq=None, model_filename=None, num_memories=None,\n",
              "    pa_type=None, period=None, trainer_cls=None, variance=None, verbose=False)"
            ]
          },
          "metadata": {
            "tags": []
          },
          "execution_count": 26
        }
      ]
    },
    {
      "cell_type": "code",
      "metadata": {
        "id": "g-DESLnAnEBk",
        "colab": {
          "base_uri": "https://localhost:8080/"
        },
        "outputId": "d19f0f20-d25b-403d-fbb3-d9423ab6796a"
      },
      "source": [
        "y_pred = crf.predict(X_test)\r\n",
        "print(metrics.flat_classification_report(y_test, y_pred, labels = new_classes))"
      ],
      "execution_count": 27,
      "outputs": [
        {
          "output_type": "stream",
          "text": [
            "              precision    recall  f1-score   support\n",
            "\n",
            "       B-art       1.00      0.03      0.07        29\n",
            "       B-eve       1.00      0.25      0.40        24\n",
            "       B-geo       0.74      0.88      0.81      1043\n",
            "       B-gpe       0.88      0.76      0.81       588\n",
            "       B-nat       0.67      0.20      0.31        10\n",
            "       B-org       0.74      0.62      0.68       649\n",
            "       B-per       0.82      0.80      0.81       546\n",
            "       B-tim       0.92      0.83      0.87       589\n",
            "       I-art       0.00      0.00      0.00         7\n",
            "       I-eve       1.00      0.22      0.36        18\n",
            "       I-geo       0.69      0.71      0.70       204\n",
            "       I-gpe       0.45      0.53      0.49        17\n",
            "       I-nat       1.00      0.50      0.67         2\n",
            "       I-org       0.78      0.73      0.76       545\n",
            "       I-per       0.80      0.91      0.85       574\n",
            "       I-tim       0.81      0.68      0.74       185\n",
            "\n",
            "   micro avg       0.79      0.78      0.78      5030\n",
            "   macro avg       0.77      0.54      0.58      5030\n",
            "weighted avg       0.80      0.78      0.78      5030\n",
            "\n"
          ],
          "name": "stdout"
        },
        {
          "output_type": "stream",
          "text": [
            "/usr/local/lib/python3.6/dist-packages/sklearn/metrics/_classification.py:1272: UndefinedMetricWarning: Precision and F-score are ill-defined and being set to 0.0 in labels with no predicted samples. Use `zero_division` parameter to control this behavior.\n",
            "  _warn_prf(average, modifier, msg_start, len(result))\n"
          ],
          "name": "stderr"
        }
      ]
    }
  ]
}